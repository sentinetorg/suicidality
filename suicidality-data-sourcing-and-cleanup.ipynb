{
 "cells": [
  {
   "cell_type": "markdown",
   "metadata": {
    "id": "Q14cyqcQlp7u"
   },
   "source": [
    "## Constants\n",
    "\n",
    "List of all constants to be used throughout the application."
   ]
  },
  {
   "cell_type": "code",
   "execution_count": 2,
   "metadata": {
    "id": "G8COYnASloft"
   },
   "outputs": [],
   "source": [
    "PROJECT_PATH = '.'\n",
    "\n",
    "\n",
    "# Dataset Labels\n",
    "LABEL_NON_SUICIDAL = 0\n",
    "LABEL_SUICIDAL = 1\n",
    "\n",
    "\n",
    "# Root Datasets Path\n",
    "DATASETS_PATH = f'{PROJECT_PATH}/datasets'\n",
    "\n",
    "\n",
    "# Source Datasets\n",
    "\n",
    "DATASETS_DOWNLOAD_PATH = f'{DATASETS_PATH}/downloads'\n",
    "DATASETS_EXPORT_PATH = f'{DATASETS_PATH}/export'\n",
    "\n",
    "TDA_DATASET_URL = \"https://www.kaggle.com/datasets/thedevastator/c-ssrs-labeled-suicidality-in-500-anonymized-red\"\n",
    "TDA_DATASET_EXPORT_PATH = f'{DATASETS_EXPORT_PATH}/tda-dataset.csv'\n",
    "\n",
    "AG_DATASET_URL = \"https://www.kaggle.com/datasets/amangoyl/reddit-dataset-for-multi-task-nlp\"\n",
    "AG_DATASET_EXPORT_PATH = f'{DATASETS_EXPORT_PATH}/ag-dataset.csv'\n",
    "\n",
    "IMS_DATASET_URL = \"https://www.kaggle.com/datasets/imeshsonu/suicideal-phrases\"\n",
    "IMS_DATASET_EXPORT_PATH = f'{DATASETS_EXPORT_PATH}/ims-dataset.csv'\n",
    "\n",
    "LAX_DATASET_URL = \"https://raw.githubusercontent.com/laxmimerit/twitter-suicidal-intention-dataset/master/twitter-suicidal_data.csv\"\n",
    "LAX_DATASET_EXPORT_PATH = f'{DATASETS_EXPORT_PATH}/lax-dataset.csv'\n",
    "\n",
    "MSH_DATASET_URL = \"https://www.kaggle.com/datasets/mohanedmashaly/suicide-notes\"\n",
    "MSH_DATASET_EXPORT_PATH = f'{DATASETS_EXPORT_PATH}/msh-dataset.csv'\n",
    "\n",
    "\n",
    "NTL_DATASET_URL = \"https://www.kaggle.com/datasets/natalialech/suicidal-ideation-on-twitter\"\n",
    "NTL_DATASET_EXPORT_PATH = f'{DATASETS_EXPORT_PATH}/ntl-dataset.csv'\n",
    "\n",
    "SOURCE_DATASETS = [\n",
    "  TDA_DATASET_EXPORT_PATH,\n",
    "  AG_DATASET_EXPORT_PATH,\n",
    "  IMS_DATASET_EXPORT_PATH,\n",
    "  LAX_DATASET_EXPORT_PATH,\n",
    "  MSH_DATASET_EXPORT_PATH,\n",
    "  NTL_DATASET_EXPORT_PATH\n",
    "]\n",
    "\n",
    "# Final Cleaned Dataset\n",
    "CLEANED_DATASET_PATH = f'{DATASETS_EXPORT_PATH}/final-cleaned-dataset.csv'"
   ]
  },
  {
   "cell_type": "markdown",
   "metadata": {
    "id": "c0i2m2ZYRIkf"
   },
   "source": [
    "## Setup Environment"
   ]
  },
  {
   "cell_type": "code",
   "execution_count": 3,
   "metadata": {
    "colab": {
     "base_uri": "https://localhost:8080/"
    },
    "id": "GjZAZn42LMys",
    "outputId": "56ba871f-b51b-4bfe-d009-7ff6b05754a2"
   },
   "outputs": [
    {
     "name": "stdout",
     "output_type": "stream",
     "text": [
      "WORKING PATH: .\n"
     ]
    }
   ],
   "source": [
    "import os\n",
    "# from google.colab import drive\n",
    "# drive.mount('/content/drive', force_remount=True)\n",
    "\n",
    "try:\n",
    "    os.chdir(PROJECT_PATH)\n",
    "    print(f\"WORKING PATH: {PROJECT_PATH}\")\n",
    "except OSError:\n",
    "    print(\"Error: Can't change the Current Working Directory\")"
   ]
  },
  {
   "cell_type": "code",
   "execution_count": 3,
   "metadata": {
    "colab": {
     "base_uri": "https://localhost:8080/"
    },
    "id": "gmxtcjJyRPWa",
    "outputId": "aab16a5d-6f5b-4029-fb52-8cc7fd20efd3",
    "scrolled": true
   },
   "outputs": [
    {
     "name": "stdout",
     "output_type": "stream",
     "text": [
      "^C\n",
      "Traceback (most recent call last):\n",
      "  File \"/home/sukanta/miniconda3/bin/pip\", line 5, in <module>\n",
      "    from pip._internal.cli.main import main\n",
      "  File \"/home/sukanta/miniconda3/lib/python3.11/site-packages/pip/_internal/cli/main.py\", line 10, in <module>\n",
      "    from pip._internal.cli.autocompletion import autocomplete\n",
      "  File \"/home/sukanta/miniconda3/lib/python3.11/site-packages/pip/_internal/cli/autocompletion.py\", line 10, in <module>\n",
      "    from pip._internal.cli.main_parser import create_main_parser\n",
      "  File \"/home/sukanta/miniconda3/lib/python3.11/site-packages/pip/_internal/cli/main_parser.py\", line 9, in <module>\n",
      "    from pip._internal.build_env import get_runnable_pip\n",
      "  File \"/home/sukanta/miniconda3/lib/python3.11/site-packages/pip/_internal/build_env.py\", line 19, in <module>\n",
      "    from pip._internal.cli.spinners import open_spinner\n",
      "  File \"/home/sukanta/miniconda3/lib/python3.11/site-packages/pip/_internal/cli/spinners.py\", line 9, in <module>\n",
      "    from pip._internal.utils.logging import get_indentation\n",
      "  File \"/home/sukanta/miniconda3/lib/python3.11/site-packages/pip/_internal/utils/logging.py\", line 29, in <module>\n",
      "    from pip._internal.utils.misc import ensure_dir\n",
      "  File \"/home/sukanta/miniconda3/lib/python3.11/site-packages/pip/_internal/utils/misc.py\", line 37, in <module>\n",
      "    from pip._vendor.tenacity import retry, stop_after_delay, wait_fixed\n",
      "  File \"/home/sukanta/miniconda3/lib/python3.11/site-packages/pip/_vendor/tenacity/__init__.py\", line 548, in <module>\n",
      "    from pip._vendor.tenacity._asyncio import AsyncRetrying  # noqa:E402,I100\n",
      "    ^^^^^^^^^^^^^^^^^^^^^^^^^^^^^^^^^^^^^^^^^^^^^^^^^^^^^^^\n",
      "  File \"/home/sukanta/miniconda3/lib/python3.11/site-packages/pip/_vendor/tenacity/_asyncio.py\", line 21, in <module>\n",
      "    from asyncio import sleep\n",
      "  File \"/home/sukanta/miniconda3/lib/python3.11/asyncio/__init__.py\", line 45, in <module>\n",
      "    from .unix_events import *  # pragma: no cover\n",
      "    ^^^^^^^^^^^^^^^^^^^^^^^^^^\n",
      "  File \"/home/sukanta/miniconda3/lib/python3.11/asyncio/unix_events.py\", line 23, in <module>\n",
      "    from . import selector_events\n",
      "  File \"<frozen importlib._bootstrap>\", line 222, in _lock_unlock_module\n",
      "  File \"<frozen importlib._bootstrap>\", line 185, in _get_module_lock\n",
      "KeyboardInterrupt\n",
      "^C\n",
      "\u001b[31mERROR: Operation cancelled by user\u001b[0m\u001b[31m\n",
      "\u001b[0mRequirement already satisfied: spacy in /home/sukanta/miniconda3/lib/python3.11/site-packages (3.6.0)\n",
      "Requirement already satisfied: matplotlib in /home/sukanta/miniconda3/lib/python3.11/site-packages (3.7.2)\n",
      "Requirement already satisfied: seaborn in /home/sukanta/miniconda3/lib/python3.11/site-packages (0.12.2)\n",
      "Requirement already satisfied: spacy-legacy<3.1.0,>=3.0.11 in /home/sukanta/miniconda3/lib/python3.11/site-packages (from spacy) (3.0.12)\n",
      "Requirement already satisfied: spacy-loggers<2.0.0,>=1.0.0 in /home/sukanta/miniconda3/lib/python3.11/site-packages (from spacy) (1.0.4)\n",
      "Requirement already satisfied: murmurhash<1.1.0,>=0.28.0 in /home/sukanta/miniconda3/lib/python3.11/site-packages (from spacy) (1.0.9)\n",
      "Requirement already satisfied: cymem<2.1.0,>=2.0.2 in /home/sukanta/miniconda3/lib/python3.11/site-packages (from spacy) (2.0.7)\n",
      "Requirement already satisfied: preshed<3.1.0,>=3.0.2 in /home/sukanta/miniconda3/lib/python3.11/site-packages (from spacy) (3.0.8)\n",
      "Requirement already satisfied: thinc<8.2.0,>=8.1.8 in /home/sukanta/miniconda3/lib/python3.11/site-packages (from spacy) (8.1.10)\n",
      "Requirement already satisfied: wasabi<1.2.0,>=0.9.1 in /home/sukanta/miniconda3/lib/python3.11/site-packages (from spacy) (1.1.2)\n",
      "Requirement already satisfied: srsly<3.0.0,>=2.4.3 in /home/sukanta/miniconda3/lib/python3.11/site-packages (from spacy) (2.4.7)\n",
      "Requirement already satisfied: catalogue<2.1.0,>=2.0.6 in /home/sukanta/miniconda3/lib/python3.11/site-packages (from spacy) (2.0.9)\n",
      "Requirement already satisfied: typer<0.10.0,>=0.3.0 in /home/sukanta/miniconda3/lib/python3.11/site-packages (from spacy) (0.9.0)\n",
      "Requirement already satisfied: pathy>=0.10.0 in /home/sukanta/miniconda3/lib/python3.11/site-packages (from spacy) (0.10.2)\n",
      "Requirement already satisfied: smart-open<7.0.0,>=5.2.1 in /home/sukanta/miniconda3/lib/python3.11/site-packages (from spacy) (6.3.0)\n",
      "Requirement already satisfied: tqdm<5.0.0,>=4.38.0 in /home/sukanta/miniconda3/lib/python3.11/site-packages (from spacy) (4.65.0)\n",
      "Requirement already satisfied: numpy>=1.15.0 in /home/sukanta/miniconda3/lib/python3.11/site-packages (from spacy) (1.24.3)\n",
      "Requirement already satisfied: requests<3.0.0,>=2.13.0 in /home/sukanta/miniconda3/lib/python3.11/site-packages (from spacy) (2.31.0)\n",
      "Requirement already satisfied: pydantic!=1.8,!=1.8.1,<1.11.0,>=1.7.4 in /home/sukanta/miniconda3/lib/python3.11/site-packages (from spacy) (1.10.12)\n",
      "Requirement already satisfied: jinja2 in /home/sukanta/miniconda3/lib/python3.11/site-packages (from spacy) (3.1.2)\n",
      "Requirement already satisfied: setuptools in /home/sukanta/miniconda3/lib/python3.11/site-packages (from spacy) (67.8.0)\n",
      "Requirement already satisfied: packaging>=20.0 in /home/sukanta/miniconda3/lib/python3.11/site-packages (from spacy) (23.1)\n",
      "Requirement already satisfied: langcodes<4.0.0,>=3.2.0 in /home/sukanta/miniconda3/lib/python3.11/site-packages (from spacy) (3.3.0)\n",
      "Requirement already satisfied: contourpy>=1.0.1 in /home/sukanta/miniconda3/lib/python3.11/site-packages (from matplotlib) (1.1.0)\n",
      "Requirement already satisfied: cycler>=0.10 in /home/sukanta/miniconda3/lib/python3.11/site-packages (from matplotlib) (0.11.0)\n",
      "Requirement already satisfied: fonttools>=4.22.0 in /home/sukanta/miniconda3/lib/python3.11/site-packages (from matplotlib) (4.42.0)\n",
      "Requirement already satisfied: kiwisolver>=1.0.1 in /home/sukanta/miniconda3/lib/python3.11/site-packages (from matplotlib) (1.4.4)\n",
      "Requirement already satisfied: pillow>=6.2.0 in /home/sukanta/miniconda3/lib/python3.11/site-packages (from matplotlib) (10.0.0)\n",
      "Requirement already satisfied: pyparsing<3.1,>=2.3.1 in /home/sukanta/miniconda3/lib/python3.11/site-packages (from matplotlib) (3.0.9)\n",
      "Requirement already satisfied: python-dateutil>=2.7 in /home/sukanta/miniconda3/lib/python3.11/site-packages (from matplotlib) (2.8.2)\n",
      "Requirement already satisfied: pandas>=0.25 in /home/sukanta/miniconda3/lib/python3.11/site-packages (from seaborn) (2.0.3)\n",
      "Requirement already satisfied: pytz>=2020.1 in /home/sukanta/miniconda3/lib/python3.11/site-packages (from pandas>=0.25->seaborn) (2023.3)\n",
      "Requirement already satisfied: tzdata>=2022.1 in /home/sukanta/miniconda3/lib/python3.11/site-packages (from pandas>=0.25->seaborn) (2023.3)\n",
      "Requirement already satisfied: typing-extensions>=4.2.0 in /home/sukanta/miniconda3/lib/python3.11/site-packages (from pydantic!=1.8,!=1.8.1,<1.11.0,>=1.7.4->spacy) (4.5.0)\n",
      "Requirement already satisfied: six>=1.5 in /home/sukanta/miniconda3/lib/python3.11/site-packages (from python-dateutil>=2.7->matplotlib) (1.16.0)\n",
      "Requirement already satisfied: charset-normalizer<4,>=2 in /home/sukanta/miniconda3/lib/python3.11/site-packages (from requests<3.0.0,>=2.13.0->spacy) (3.2.0)\n",
      "Requirement already satisfied: idna<4,>=2.5 in /home/sukanta/miniconda3/lib/python3.11/site-packages (from requests<3.0.0,>=2.13.0->spacy) (3.4)\n",
      "Requirement already satisfied: urllib3<3,>=1.21.1 in /home/sukanta/miniconda3/lib/python3.11/site-packages (from requests<3.0.0,>=2.13.0->spacy) (1.26.16)\n",
      "Requirement already satisfied: certifi>=2017.4.17 in /home/sukanta/miniconda3/lib/python3.11/site-packages (from requests<3.0.0,>=2.13.0->spacy) (2023.7.22)\n",
      "Requirement already satisfied: blis<0.8.0,>=0.7.8 in /home/sukanta/miniconda3/lib/python3.11/site-packages (from thinc<8.2.0,>=8.1.8->spacy) (0.7.10)\n",
      "Requirement already satisfied: confection<1.0.0,>=0.0.1 in /home/sukanta/miniconda3/lib/python3.11/site-packages (from thinc<8.2.0,>=8.1.8->spacy) (0.1.0)\n",
      "Requirement already satisfied: click<9.0.0,>=7.1.1 in /home/sukanta/miniconda3/lib/python3.11/site-packages (from typer<0.10.0,>=0.3.0->spacy) (8.1.6)\n",
      "Requirement already satisfied: MarkupSafe>=2.0 in /home/sukanta/miniconda3/lib/python3.11/site-packages (from jinja2->spacy) (2.1.3)\n",
      "Requirement already satisfied: keras in /home/sukanta/miniconda3/lib/python3.11/site-packages (2.12.0)\n",
      "Requirement already satisfied: tensorflow-cpu in /home/sukanta/miniconda3/lib/python3.11/site-packages (2.12.1)\n",
      "Requirement already satisfied: absl-py>=1.0.0 in /home/sukanta/miniconda3/lib/python3.11/site-packages (from tensorflow-cpu) (1.4.0)\n",
      "Requirement already satisfied: astunparse>=1.6.0 in /home/sukanta/miniconda3/lib/python3.11/site-packages (from tensorflow-cpu) (1.6.3)\n",
      "Requirement already satisfied: flatbuffers>=2.0 in /home/sukanta/miniconda3/lib/python3.11/site-packages (from tensorflow-cpu) (2.0.7)\n",
      "Requirement already satisfied: gast<=0.4.0,>=0.2.1 in /home/sukanta/miniconda3/lib/python3.11/site-packages (from tensorflow-cpu) (0.4.0)\n",
      "Requirement already satisfied: google-pasta>=0.1.1 in /home/sukanta/miniconda3/lib/python3.11/site-packages (from tensorflow-cpu) (0.2.0)\n",
      "Requirement already satisfied: grpcio<2.0,>=1.24.3 in /home/sukanta/miniconda3/lib/python3.11/site-packages (from tensorflow-cpu) (1.56.2)\n",
      "Requirement already satisfied: h5py>=2.9.0 in /home/sukanta/miniconda3/lib/python3.11/site-packages (from tensorflow-cpu) (3.9.0)\n",
      "Requirement already satisfied: jax>=0.3.15 in /home/sukanta/miniconda3/lib/python3.11/site-packages (from tensorflow-cpu) (0.4.14)\n",
      "Requirement already satisfied: libclang>=13.0.0 in /home/sukanta/miniconda3/lib/python3.11/site-packages (from tensorflow-cpu) (16.0.6)\n",
      "Requirement already satisfied: numpy<=1.24.3,>=1.22 in /home/sukanta/miniconda3/lib/python3.11/site-packages (from tensorflow-cpu) (1.24.3)\n",
      "Requirement already satisfied: opt-einsum>=2.3.2 in /home/sukanta/miniconda3/lib/python3.11/site-packages (from tensorflow-cpu) (3.3.0)\n",
      "Requirement already satisfied: packaging in /home/sukanta/miniconda3/lib/python3.11/site-packages (from tensorflow-cpu) (23.1)\n",
      "Requirement already satisfied: protobuf!=4.21.0,!=4.21.1,!=4.21.2,!=4.21.3,!=4.21.4,!=4.21.5,<5.0.0dev,>=3.20.3 in /home/sukanta/miniconda3/lib/python3.11/site-packages (from tensorflow-cpu) (4.23.4)\n",
      "Requirement already satisfied: setuptools in /home/sukanta/miniconda3/lib/python3.11/site-packages (from tensorflow-cpu) (67.8.0)\n",
      "Requirement already satisfied: six>=1.12.0 in /home/sukanta/miniconda3/lib/python3.11/site-packages (from tensorflow-cpu) (1.16.0)\n",
      "Requirement already satisfied: tensorboard<2.13,>=2.12 in /home/sukanta/miniconda3/lib/python3.11/site-packages (from tensorflow-cpu) (2.12.3)\n",
      "Requirement already satisfied: tensorflow-estimator<2.13,>=2.12.0 in /home/sukanta/miniconda3/lib/python3.11/site-packages (from tensorflow-cpu) (2.12.0)\n",
      "Requirement already satisfied: termcolor>=1.1.0 in /home/sukanta/miniconda3/lib/python3.11/site-packages (from tensorflow-cpu) (2.3.0)\n",
      "Requirement already satisfied: typing-extensions<4.6.0,>=3.6.6 in /home/sukanta/miniconda3/lib/python3.11/site-packages (from tensorflow-cpu) (4.5.0)\n",
      "Requirement already satisfied: wrapt<1.15,>=1.11.0 in /home/sukanta/miniconda3/lib/python3.11/site-packages (from tensorflow-cpu) (1.14.1)\n",
      "Requirement already satisfied: tensorflow-io-gcs-filesystem>=0.23.1 in /home/sukanta/miniconda3/lib/python3.11/site-packages (from tensorflow-cpu) (0.33.0)\n",
      "Requirement already satisfied: wheel<1.0,>=0.23.0 in /home/sukanta/miniconda3/lib/python3.11/site-packages (from astunparse>=1.6.0->tensorflow-cpu) (0.38.4)\n",
      "Requirement already satisfied: ml-dtypes>=0.2.0 in /home/sukanta/miniconda3/lib/python3.11/site-packages (from jax>=0.3.15->tensorflow-cpu) (0.2.0)\n",
      "Requirement already satisfied: scipy>=1.7 in /home/sukanta/miniconda3/lib/python3.11/site-packages (from jax>=0.3.15->tensorflow-cpu) (1.11.1)\n",
      "Requirement already satisfied: google-auth<3,>=1.6.3 in /home/sukanta/miniconda3/lib/python3.11/site-packages (from tensorboard<2.13,>=2.12->tensorflow-cpu) (2.22.0)\n",
      "Requirement already satisfied: google-auth-oauthlib<1.1,>=0.5 in /home/sukanta/miniconda3/lib/python3.11/site-packages (from tensorboard<2.13,>=2.12->tensorflow-cpu) (1.0.0)\n",
      "Requirement already satisfied: markdown>=2.6.8 in /home/sukanta/miniconda3/lib/python3.11/site-packages (from tensorboard<2.13,>=2.12->tensorflow-cpu) (3.4.4)\n",
      "Requirement already satisfied: requests<3,>=2.21.0 in /home/sukanta/miniconda3/lib/python3.11/site-packages (from tensorboard<2.13,>=2.12->tensorflow-cpu) (2.31.0)\n",
      "Requirement already satisfied: tensorboard-data-server<0.8.0,>=0.7.0 in /home/sukanta/miniconda3/lib/python3.11/site-packages (from tensorboard<2.13,>=2.12->tensorflow-cpu) (0.7.1)\n",
      "Requirement already satisfied: werkzeug>=1.0.1 in /home/sukanta/miniconda3/lib/python3.11/site-packages (from tensorboard<2.13,>=2.12->tensorflow-cpu) (2.3.6)\n",
      "Requirement already satisfied: cachetools<6.0,>=2.0.0 in /home/sukanta/miniconda3/lib/python3.11/site-packages (from google-auth<3,>=1.6.3->tensorboard<2.13,>=2.12->tensorflow-cpu) (5.3.1)\n",
      "Requirement already satisfied: pyasn1-modules>=0.2.1 in /home/sukanta/miniconda3/lib/python3.11/site-packages (from google-auth<3,>=1.6.3->tensorboard<2.13,>=2.12->tensorflow-cpu) (0.3.0)\n",
      "Requirement already satisfied: rsa<5,>=3.1.4 in /home/sukanta/miniconda3/lib/python3.11/site-packages (from google-auth<3,>=1.6.3->tensorboard<2.13,>=2.12->tensorflow-cpu) (4.9)\n",
      "Requirement already satisfied: urllib3<2.0 in /home/sukanta/miniconda3/lib/python3.11/site-packages (from google-auth<3,>=1.6.3->tensorboard<2.13,>=2.12->tensorflow-cpu) (1.26.16)\n",
      "Requirement already satisfied: requests-oauthlib>=0.7.0 in /home/sukanta/miniconda3/lib/python3.11/site-packages (from google-auth-oauthlib<1.1,>=0.5->tensorboard<2.13,>=2.12->tensorflow-cpu) (1.3.1)\n",
      "Requirement already satisfied: charset-normalizer<4,>=2 in /home/sukanta/miniconda3/lib/python3.11/site-packages (from requests<3,>=2.21.0->tensorboard<2.13,>=2.12->tensorflow-cpu) (3.2.0)\n",
      "Requirement already satisfied: idna<4,>=2.5 in /home/sukanta/miniconda3/lib/python3.11/site-packages (from requests<3,>=2.21.0->tensorboard<2.13,>=2.12->tensorflow-cpu) (3.4)\n",
      "Requirement already satisfied: certifi>=2017.4.17 in /home/sukanta/miniconda3/lib/python3.11/site-packages (from requests<3,>=2.21.0->tensorboard<2.13,>=2.12->tensorflow-cpu) (2023.7.22)\n",
      "Requirement already satisfied: MarkupSafe>=2.1.1 in /home/sukanta/miniconda3/lib/python3.11/site-packages (from werkzeug>=1.0.1->tensorboard<2.13,>=2.12->tensorflow-cpu) (2.1.3)\n",
      "Requirement already satisfied: pyasn1<0.6.0,>=0.4.6 in /home/sukanta/miniconda3/lib/python3.11/site-packages (from pyasn1-modules>=0.2.1->google-auth<3,>=1.6.3->tensorboard<2.13,>=2.12->tensorflow-cpu) (0.5.0)\n",
      "Requirement already satisfied: oauthlib>=3.0.0 in /home/sukanta/miniconda3/lib/python3.11/site-packages (from requests-oauthlib>=0.7.0->google-auth-oauthlib<1.1,>=0.5->tensorboard<2.13,>=2.12->tensorflow-cpu) (3.2.2)\n",
      "Looking in indexes: https://download.pytorch.org/whl/cpu\n",
      "Requirement already satisfied: torch in /home/sukanta/miniconda3/lib/python3.11/site-packages (2.0.1+cpu)\n",
      "Requirement already satisfied: torchvision in /home/sukanta/miniconda3/lib/python3.11/site-packages (0.15.2+cpu)\n",
      "Requirement already satisfied: torchaudio in /home/sukanta/miniconda3/lib/python3.11/site-packages (2.0.2+cpu)\n",
      "Requirement already satisfied: filelock in /home/sukanta/miniconda3/lib/python3.11/site-packages (from torch) (3.12.2)\n",
      "Requirement already satisfied: typing-extensions in /home/sukanta/miniconda3/lib/python3.11/site-packages (from torch) (4.5.0)\n",
      "Requirement already satisfied: sympy in /home/sukanta/miniconda3/lib/python3.11/site-packages (from torch) (1.11.1)\n",
      "Requirement already satisfied: networkx in /home/sukanta/miniconda3/lib/python3.11/site-packages (from torch) (3.0)\n",
      "Requirement already satisfied: jinja2 in /home/sukanta/miniconda3/lib/python3.11/site-packages (from torch) (3.1.2)\n",
      "Requirement already satisfied: numpy in /home/sukanta/miniconda3/lib/python3.11/site-packages (from torchvision) (1.24.3)\n",
      "Requirement already satisfied: requests in /home/sukanta/miniconda3/lib/python3.11/site-packages (from torchvision) (2.31.0)\n",
      "Requirement already satisfied: pillow!=8.3.*,>=5.3.0 in /home/sukanta/miniconda3/lib/python3.11/site-packages (from torchvision) (10.0.0)\n",
      "Requirement already satisfied: MarkupSafe>=2.0 in /home/sukanta/miniconda3/lib/python3.11/site-packages (from jinja2->torch) (2.1.3)\n",
      "Requirement already satisfied: charset-normalizer<4,>=2 in /home/sukanta/miniconda3/lib/python3.11/site-packages (from requests->torchvision) (3.2.0)\n",
      "Requirement already satisfied: idna<4,>=2.5 in /home/sukanta/miniconda3/lib/python3.11/site-packages (from requests->torchvision) (3.4)\n",
      "Requirement already satisfied: urllib3<3,>=1.21.1 in /home/sukanta/miniconda3/lib/python3.11/site-packages (from requests->torchvision) (1.26.16)\n",
      "Requirement already satisfied: certifi>=2017.4.17 in /home/sukanta/miniconda3/lib/python3.11/site-packages (from requests->torchvision) (2023.7.22)\n",
      "Requirement already satisfied: mpmath>=0.19 in /home/sukanta/miniconda3/lib/python3.11/site-packages (from sympy->torch) (1.2.1)\n",
      "2023-08-07 00:37:24.860291: I tensorflow/core/platform/cpu_feature_guard.cc:182] This TensorFlow binary is optimized to use available CPU instructions in performance-critical operations.\n",
      "To enable the following instructions: AVX2 FMA, in other operations, rebuild TensorFlow with the appropriate compiler flags.\n",
      "2023-08-07 00:37:25.474484: W tensorflow/compiler/tf2tensorrt/utils/py_utils.cc:38] TF-TRT Warning: Could not find TensorRT\n",
      "2023-08-07 00:37:26.177897: I tensorflow/compiler/xla/stream_executor/cuda/cuda_gpu_executor.cc:996] successful NUMA node read from SysFS had negative value (-1), but there must be at least one NUMA node, so returning NUMA node zero. See more at https://github.com/torvalds/linux/blob/v6.0/Documentation/ABI/testing/sysfs-bus-pci#L344-L355\n",
      "2023-08-07 00:37:26.195066: I tensorflow/compiler/xla/stream_executor/cuda/cuda_gpu_executor.cc:996] successful NUMA node read from SysFS had negative value (-1), but there must be at least one NUMA node, so returning NUMA node zero. See more at https://github.com/torvalds/linux/blob/v6.0/Documentation/ABI/testing/sysfs-bus-pci#L344-L355\n",
      "2023-08-07 00:37:26.195343: I tensorflow/compiler/xla/stream_executor/cuda/cuda_gpu_executor.cc:996] successful NUMA node read from SysFS had negative value (-1), but there must be at least one NUMA node, so returning NUMA node zero. See more at https://github.com/torvalds/linux/blob/v6.0/Documentation/ABI/testing/sysfs-bus-pci#L344-L355\n",
      "Collecting en-core-web-sm==3.6.0\n",
      "  Downloading https://github.com/explosion/spacy-models/releases/download/en_core_web_sm-3.6.0/en_core_web_sm-3.6.0-py3-none-any.whl (12.8 MB)\n",
      "\u001b[2K     \u001b[38;2;114;156;31m━━━━━━━━━━━━━━━━━━━━━━━━━━━━━━━━━━━━━━━━\u001b[0m \u001b[32m12.8/12.8 MB\u001b[0m \u001b[31m11.8 MB/s\u001b[0m eta \u001b[36m0:00:00\u001b[0mm eta \u001b[36m0:00:01\u001b[0m[36m0:00:01\u001b[0m\n",
      "\u001b[?25hRequirement already satisfied: spacy<3.7.0,>=3.6.0 in /home/sukanta/miniconda3/lib/python3.11/site-packages (from en-core-web-sm==3.6.0) (3.6.0)\n",
      "Requirement already satisfied: spacy-legacy<3.1.0,>=3.0.11 in /home/sukanta/miniconda3/lib/python3.11/site-packages (from spacy<3.7.0,>=3.6.0->en-core-web-sm==3.6.0) (3.0.12)\n",
      "Requirement already satisfied: spacy-loggers<2.0.0,>=1.0.0 in /home/sukanta/miniconda3/lib/python3.11/site-packages (from spacy<3.7.0,>=3.6.0->en-core-web-sm==3.6.0) (1.0.4)\n",
      "Requirement already satisfied: murmurhash<1.1.0,>=0.28.0 in /home/sukanta/miniconda3/lib/python3.11/site-packages (from spacy<3.7.0,>=3.6.0->en-core-web-sm==3.6.0) (1.0.9)\n",
      "Requirement already satisfied: cymem<2.1.0,>=2.0.2 in /home/sukanta/miniconda3/lib/python3.11/site-packages (from spacy<3.7.0,>=3.6.0->en-core-web-sm==3.6.0) (2.0.7)\n",
      "Requirement already satisfied: preshed<3.1.0,>=3.0.2 in /home/sukanta/miniconda3/lib/python3.11/site-packages (from spacy<3.7.0,>=3.6.0->en-core-web-sm==3.6.0) (3.0.8)\n",
      "Requirement already satisfied: thinc<8.2.0,>=8.1.8 in /home/sukanta/miniconda3/lib/python3.11/site-packages (from spacy<3.7.0,>=3.6.0->en-core-web-sm==3.6.0) (8.1.10)\n",
      "Requirement already satisfied: wasabi<1.2.0,>=0.9.1 in /home/sukanta/miniconda3/lib/python3.11/site-packages (from spacy<3.7.0,>=3.6.0->en-core-web-sm==3.6.0) (1.1.2)\n",
      "Requirement already satisfied: srsly<3.0.0,>=2.4.3 in /home/sukanta/miniconda3/lib/python3.11/site-packages (from spacy<3.7.0,>=3.6.0->en-core-web-sm==3.6.0) (2.4.7)\n",
      "Requirement already satisfied: catalogue<2.1.0,>=2.0.6 in /home/sukanta/miniconda3/lib/python3.11/site-packages (from spacy<3.7.0,>=3.6.0->en-core-web-sm==3.6.0) (2.0.9)\n",
      "Requirement already satisfied: typer<0.10.0,>=0.3.0 in /home/sukanta/miniconda3/lib/python3.11/site-packages (from spacy<3.7.0,>=3.6.0->en-core-web-sm==3.6.0) (0.9.0)\n",
      "Requirement already satisfied: pathy>=0.10.0 in /home/sukanta/miniconda3/lib/python3.11/site-packages (from spacy<3.7.0,>=3.6.0->en-core-web-sm==3.6.0) (0.10.2)\n",
      "Requirement already satisfied: smart-open<7.0.0,>=5.2.1 in /home/sukanta/miniconda3/lib/python3.11/site-packages (from spacy<3.7.0,>=3.6.0->en-core-web-sm==3.6.0) (6.3.0)\n",
      "Requirement already satisfied: tqdm<5.0.0,>=4.38.0 in /home/sukanta/miniconda3/lib/python3.11/site-packages (from spacy<3.7.0,>=3.6.0->en-core-web-sm==3.6.0) (4.65.0)\n",
      "Requirement already satisfied: numpy>=1.15.0 in /home/sukanta/miniconda3/lib/python3.11/site-packages (from spacy<3.7.0,>=3.6.0->en-core-web-sm==3.6.0) (1.24.3)\n",
      "Requirement already satisfied: requests<3.0.0,>=2.13.0 in /home/sukanta/miniconda3/lib/python3.11/site-packages (from spacy<3.7.0,>=3.6.0->en-core-web-sm==3.6.0) (2.31.0)\n",
      "Requirement already satisfied: pydantic!=1.8,!=1.8.1,<1.11.0,>=1.7.4 in /home/sukanta/miniconda3/lib/python3.11/site-packages (from spacy<3.7.0,>=3.6.0->en-core-web-sm==3.6.0) (1.10.12)\n",
      "Requirement already satisfied: jinja2 in /home/sukanta/miniconda3/lib/python3.11/site-packages (from spacy<3.7.0,>=3.6.0->en-core-web-sm==3.6.0) (3.1.2)\n",
      "Requirement already satisfied: setuptools in /home/sukanta/miniconda3/lib/python3.11/site-packages (from spacy<3.7.0,>=3.6.0->en-core-web-sm==3.6.0) (67.8.0)\n",
      "Requirement already satisfied: packaging>=20.0 in /home/sukanta/miniconda3/lib/python3.11/site-packages (from spacy<3.7.0,>=3.6.0->en-core-web-sm==3.6.0) (23.1)\n",
      "Requirement already satisfied: langcodes<4.0.0,>=3.2.0 in /home/sukanta/miniconda3/lib/python3.11/site-packages (from spacy<3.7.0,>=3.6.0->en-core-web-sm==3.6.0) (3.3.0)\n",
      "Requirement already satisfied: typing-extensions>=4.2.0 in /home/sukanta/miniconda3/lib/python3.11/site-packages (from pydantic!=1.8,!=1.8.1,<1.11.0,>=1.7.4->spacy<3.7.0,>=3.6.0->en-core-web-sm==3.6.0) (4.5.0)\n",
      "Requirement already satisfied: charset-normalizer<4,>=2 in /home/sukanta/miniconda3/lib/python3.11/site-packages (from requests<3.0.0,>=2.13.0->spacy<3.7.0,>=3.6.0->en-core-web-sm==3.6.0) (3.2.0)\n",
      "Requirement already satisfied: idna<4,>=2.5 in /home/sukanta/miniconda3/lib/python3.11/site-packages (from requests<3.0.0,>=2.13.0->spacy<3.7.0,>=3.6.0->en-core-web-sm==3.6.0) (3.4)\n",
      "Requirement already satisfied: urllib3<3,>=1.21.1 in /home/sukanta/miniconda3/lib/python3.11/site-packages (from requests<3.0.0,>=2.13.0->spacy<3.7.0,>=3.6.0->en-core-web-sm==3.6.0) (1.26.16)\n",
      "Requirement already satisfied: certifi>=2017.4.17 in /home/sukanta/miniconda3/lib/python3.11/site-packages (from requests<3.0.0,>=2.13.0->spacy<3.7.0,>=3.6.0->en-core-web-sm==3.6.0) (2023.7.22)\n",
      "Requirement already satisfied: blis<0.8.0,>=0.7.8 in /home/sukanta/miniconda3/lib/python3.11/site-packages (from thinc<8.2.0,>=8.1.8->spacy<3.7.0,>=3.6.0->en-core-web-sm==3.6.0) (0.7.10)\n",
      "Requirement already satisfied: confection<1.0.0,>=0.0.1 in /home/sukanta/miniconda3/lib/python3.11/site-packages (from thinc<8.2.0,>=8.1.8->spacy<3.7.0,>=3.6.0->en-core-web-sm==3.6.0) (0.1.0)\n",
      "Requirement already satisfied: click<9.0.0,>=7.1.1 in /home/sukanta/miniconda3/lib/python3.11/site-packages (from typer<0.10.0,>=0.3.0->spacy<3.7.0,>=3.6.0->en-core-web-sm==3.6.0) (8.1.6)\n",
      "Requirement already satisfied: MarkupSafe>=2.0 in /home/sukanta/miniconda3/lib/python3.11/site-packages (from jinja2->spacy<3.7.0,>=3.6.0->en-core-web-sm==3.6.0) (2.1.3)\n",
      "\u001b[38;5;2m✔ Download and installation successful\u001b[0m\n",
      "You can now load the package via spacy.load('en_core_web_sm')\n"
     ]
    }
   ],
   "source": [
    "!pip install opendatasets\n",
    "!pip install pandas swifter\n",
    "!pip install -qqq unidecode contractions pyspellchecker wordninja symspellpy\n",
    "!pip install spacy matplotlib seaborn\n",
    "!pip install keras tensorflow-cpu\n",
    "!pip3 install torch torchvision torchaudio --index-url https://download.pytorch.org/whl/cpu\n",
    "\n",
    "!python -m spacy download en_core_web_sm"
   ]
  },
  {
   "cell_type": "code",
   "execution_count": 4,
   "metadata": {
    "id": "1PXuamhOT656"
   },
   "outputs": [
    {
     "name": "stderr",
     "output_type": "stream",
     "text": [
      "2023-08-07 15:22:51.844195: I tensorflow/core/platform/cpu_feature_guard.cc:182] This TensorFlow binary is optimized to use available CPU instructions in performance-critical operations.\n",
      "To enable the following instructions: AVX2 FMA, in other operations, rebuild TensorFlow with the appropriate compiler flags.\n",
      "2023-08-07 15:22:52.733989: W tensorflow/compiler/tf2tensorrt/utils/py_utils.cc:38] TF-TRT Warning: Could not find TensorRT\n",
      "2023-08-07 15:22:53.728571: I tensorflow/compiler/xla/stream_executor/cuda/cuda_gpu_executor.cc:996] successful NUMA node read from SysFS had negative value (-1), but there must be at least one NUMA node, so returning NUMA node zero. See more at https://github.com/torvalds/linux/blob/v6.0/Documentation/ABI/testing/sysfs-bus-pci#L344-L355\n",
      "2023-08-07 15:22:53.867322: I tensorflow/compiler/xla/stream_executor/cuda/cuda_gpu_executor.cc:996] successful NUMA node read from SysFS had negative value (-1), but there must be at least one NUMA node, so returning NUMA node zero. See more at https://github.com/torvalds/linux/blob/v6.0/Documentation/ABI/testing/sysfs-bus-pci#L344-L355\n",
      "2023-08-07 15:22:53.867640: I tensorflow/compiler/xla/stream_executor/cuda/cuda_gpu_executor.cc:996] successful NUMA node read from SysFS had negative value (-1), but there must be at least one NUMA node, so returning NUMA node zero. See more at https://github.com/torvalds/linux/blob/v6.0/Documentation/ABI/testing/sysfs-bus-pci#L344-L355\n",
      "/home/sukanta/miniconda3/lib/python3.11/site-packages/tqdm/auto.py:21: TqdmWarning: IProgress not found. Please update jupyter and ipywidgets. See https://ipywidgets.readthedocs.io/en/stable/user_install.html\n",
      "  from .autonotebook import tqdm as notebook_tqdm\n"
     ]
    }
   ],
   "source": [
    "import opendatasets as od\n",
    "import pandas as pd\n",
    "import numpy as np\n",
    "import ast\n",
    "import spacy\n",
    "import unidecode\n",
    "import contractions as contract\n",
    "import re\n",
    "import wordninja\n",
    "import collections\n",
    "import pkg_resources\n",
    "from spellchecker import SpellChecker\n",
    "from symspellpy import SymSpell, Verbosity\n",
    "import matplotlib.pyplot as plt\n",
    "from keras.preprocessing.text import Tokenizer\n",
    "import seaborn as sns\n",
    "from transformers import pipeline\n",
    "from tqdm import tqdm\n",
    "\n",
    "tqdm.pandas()\n",
    "\n",
    "from swifter import set_defaults\n",
    "set_defaults(\n",
    "    dask_threshold=1,\n",
    "    scheduler=\"processes\",\n",
    "    allow_dask_on_strings=True,\n",
    "    progress_bar=True,\n",
    ")\n"
   ]
  },
  {
   "cell_type": "markdown",
   "metadata": {
    "id": "8-hK7bv9QhzH"
   },
   "source": [
    "## Data Source: thedevastator\n",
    "\n",
    "https://www.kaggle.com/datasets/thedevastator/c-ssrs-labeled-suicidality-in-500-anonymized-red"
   ]
  },
  {
   "cell_type": "markdown",
   "metadata": {
    "id": "EeVg7b3FRjSB"
   },
   "source": [
    "### Pull Data"
   ]
  },
  {
   "cell_type": "code",
   "execution_count": 5,
   "metadata": {
    "colab": {
     "base_uri": "https://localhost:8080/",
     "height": 442
    },
    "id": "RN8ZHN39QO__",
    "outputId": "2e1d380d-9b3a-432c-ac41-d1cf5aaee493"
   },
   "outputs": [
    {
     "name": "stdout",
     "output_type": "stream",
     "text": [
      "Skipping, found downloaded files in \"./datasets/downloads/c-ssrs-labeled-suicidality-in-500-anonymized-red\" (use force=True to force download)\n"
     ]
    },
    {
     "data": {
      "text/html": [
       "<div>\n",
       "<style scoped>\n",
       "    .dataframe tbody tr th:only-of-type {\n",
       "        vertical-align: middle;\n",
       "    }\n",
       "\n",
       "    .dataframe tbody tr th {\n",
       "        vertical-align: top;\n",
       "    }\n",
       "\n",
       "    .dataframe thead th {\n",
       "        text-align: right;\n",
       "    }\n",
       "</style>\n",
       "<table border=\"1\" class=\"dataframe\">\n",
       "  <thead>\n",
       "    <tr style=\"text-align: right;\">\n",
       "      <th></th>\n",
       "      <th>User</th>\n",
       "      <th>Post</th>\n",
       "      <th>Label</th>\n",
       "    </tr>\n",
       "  </thead>\n",
       "  <tbody>\n",
       "    <tr>\n",
       "      <th>0</th>\n",
       "      <td>user-0</td>\n",
       "      <td>['Its not a viable option, and youll be leavin...</td>\n",
       "      <td>Supportive</td>\n",
       "    </tr>\n",
       "    <tr>\n",
       "      <th>1</th>\n",
       "      <td>user-1</td>\n",
       "      <td>['It can be hard to appreciate the notion that...</td>\n",
       "      <td>Ideation</td>\n",
       "    </tr>\n",
       "    <tr>\n",
       "      <th>2</th>\n",
       "      <td>user-2</td>\n",
       "      <td>['Hi, so last night i was sitting on the ledge...</td>\n",
       "      <td>Behavior</td>\n",
       "    </tr>\n",
       "    <tr>\n",
       "      <th>3</th>\n",
       "      <td>user-3</td>\n",
       "      <td>['I tried to kill my self once and failed badl...</td>\n",
       "      <td>Attempt</td>\n",
       "    </tr>\n",
       "    <tr>\n",
       "      <th>4</th>\n",
       "      <td>user-4</td>\n",
       "      <td>['Hi NEM3030. What sorts of things do you enjo...</td>\n",
       "      <td>Ideation</td>\n",
       "    </tr>\n",
       "    <tr>\n",
       "      <th>...</th>\n",
       "      <td>...</td>\n",
       "      <td>...</td>\n",
       "      <td>...</td>\n",
       "    </tr>\n",
       "    <tr>\n",
       "      <th>495</th>\n",
       "      <td>user-495</td>\n",
       "      <td>['Its not the end, it just feels that way. Or ...</td>\n",
       "      <td>Supportive</td>\n",
       "    </tr>\n",
       "    <tr>\n",
       "      <th>496</th>\n",
       "      <td>user-496</td>\n",
       "      <td>['It was a skype call, but she ended it and Ve...</td>\n",
       "      <td>Indicator</td>\n",
       "    </tr>\n",
       "    <tr>\n",
       "      <th>497</th>\n",
       "      <td>user-497</td>\n",
       "      <td>['That sounds really weird.Maybe you were Dist...</td>\n",
       "      <td>Supportive</td>\n",
       "    </tr>\n",
       "    <tr>\n",
       "      <th>498</th>\n",
       "      <td>user-498</td>\n",
       "      <td>['Dont know there as dumb as it sounds I feel ...</td>\n",
       "      <td>Attempt</td>\n",
       "    </tr>\n",
       "    <tr>\n",
       "      <th>499</th>\n",
       "      <td>user-499</td>\n",
       "      <td>['&amp;gt;It gets better, trust me.Ive spent long ...</td>\n",
       "      <td>Behavior</td>\n",
       "    </tr>\n",
       "  </tbody>\n",
       "</table>\n",
       "<p>500 rows × 3 columns</p>\n",
       "</div>"
      ],
      "text/plain": [
       "         User                                               Post       Label\n",
       "0      user-0  ['Its not a viable option, and youll be leavin...  Supportive\n",
       "1      user-1  ['It can be hard to appreciate the notion that...    Ideation\n",
       "2      user-2  ['Hi, so last night i was sitting on the ledge...    Behavior\n",
       "3      user-3  ['I tried to kill my self once and failed badl...     Attempt\n",
       "4      user-4  ['Hi NEM3030. What sorts of things do you enjo...    Ideation\n",
       "..        ...                                                ...         ...\n",
       "495  user-495  ['Its not the end, it just feels that way. Or ...  Supportive\n",
       "496  user-496  ['It was a skype call, but she ended it and Ve...   Indicator\n",
       "497  user-497  ['That sounds really weird.Maybe you were Dist...  Supportive\n",
       "498  user-498  ['Dont know there as dumb as it sounds I feel ...     Attempt\n",
       "499  user-499  ['&gt;It gets better, trust me.Ive spent long ...    Behavior\n",
       "\n",
       "[500 rows x 3 columns]"
      ]
     },
     "execution_count": 5,
     "metadata": {},
     "output_type": "execute_result"
    }
   ],
   "source": [
    "od.download(TDA_DATASET_URL, DATASETS_DOWNLOAD_PATH)\n",
    "tda_data = pd.read_csv(f'{DATASETS_DOWNLOAD_PATH}/c-ssrs-labeled-suicidality-in-500-anonymized-red/500_anonymized_Reddit_users_posts_labels - 500_anonymized_Reddit_users_posts_labels.csv')\n",
    "tda_data"
   ]
  },
  {
   "cell_type": "markdown",
   "metadata": {
    "id": "9_zzARJYUtsZ"
   },
   "source": [
    "### Analyze data based on the labels"
   ]
  },
  {
   "cell_type": "code",
   "execution_count": 3,
   "metadata": {
    "colab": {
     "base_uri": "https://localhost:8080/",
     "height": 1000
    },
    "id": "jHAlV1iFU1ib",
    "outputId": "daebb2f7-c3ca-4bab-cc8f-a29622af5876",
    "scrolled": true
   },
   "outputs": [
    {
     "ename": "NameError",
     "evalue": "name 'tda_data' is not defined",
     "output_type": "error",
     "traceback": [
      "\u001b[0;31m---------------------------------------------------------------------------\u001b[0m",
      "\u001b[0;31mNameError\u001b[0m                                 Traceback (most recent call last)",
      "Cell \u001b[0;32mIn[3], line 1\u001b[0m\n\u001b[0;32m----> 1\u001b[0m tda_posts \u001b[38;5;241m=\u001b[39m \u001b[43mtda_data\u001b[49m\u001b[38;5;241m.\u001b[39mcopy(deep\u001b[38;5;241m=\u001b[39m\u001b[38;5;28;01mTrue\u001b[39;00m)\n\u001b[1;32m      3\u001b[0m \u001b[38;5;28;01mdef\u001b[39;00m \u001b[38;5;21mtda_fix_post\u001b[39m(text):\n\u001b[1;32m      4\u001b[0m   \u001b[38;5;28;01mif\u001b[39;00m text\u001b[38;5;241m.\u001b[39mendswith(\u001b[38;5;124m\"\u001b[39m\u001b[38;5;124m'\u001b[39m\u001b[38;5;124m]\u001b[39m\u001b[38;5;124m\"\u001b[39m) \u001b[38;5;129;01mor\u001b[39;00m text\u001b[38;5;241m.\u001b[39mendswith(\u001b[38;5;124m'\u001b[39m\u001b[38;5;124m\"\u001b[39m\u001b[38;5;124m]\u001b[39m\u001b[38;5;124m'\u001b[39m): \u001b[38;5;28;01mreturn\u001b[39;00m text\n",
      "\u001b[0;31mNameError\u001b[0m: name 'tda_data' is not defined"
     ]
    }
   ],
   "source": [
    "tda_posts = tda_data.copy(deep=True)\n",
    "\n",
    "def tda_fix_post(text):\n",
    "  if text.endswith(\"']\") or text.endswith('\"]'): return text\n",
    "  return text + \"']\"\n",
    "\n",
    "tda_posts['Post'] = tda_posts['Post'].map(tda_fix_post)\n",
    "tda_posts['Post'] = tda_posts['Post'].apply(ast.literal_eval)\n",
    "tda_posts['Post'] = tda_posts['Post'].map(lambda post: \" \".join( post ))\n",
    "\n",
    "\n",
    "tda_labels = tda_posts['Label'].unique()\n",
    "for tda_label in tda_labels:\n",
    "  items = tda_posts[tda_posts['Label']==tda_label]\n",
    "  items = items.sample(n = 10)\n",
    "\n",
    "  print(f'LABEL: {tda_label}')\n",
    "  for index in items['Post'].index:\n",
    "    print(f\"- {items['Post'][index]}\\n\")\n",
    "\n",
    "  print()\n",
    "\n",
    "tda_posts"
   ]
  },
  {
   "cell_type": "markdown",
   "metadata": {
    "id": "ZVPPb57OkCSV"
   },
   "source": [
    "### Findings\n",
    "\n",
    "- Based on the above samples, we may conclude that the \"Attempt\" label clearly gives the indication of sucidilaty.\n",
    "- Also, it looks like the \"Ideation\" label is for the state of a person when he/she is tending towards sucidilaty. (Ideation is just before attempt)\n",
    "\n",
    "So, for this dataset we'll use both \"Attempt\" & \"Ideation\" as suicidal. And the rest are non suicidal."
   ]
  },
  {
   "cell_type": "markdown",
   "metadata": {
    "id": "-Ri5ZYMulLBh"
   },
   "source": [
    "### Primary Cleanup & Save Dataset\n",
    "\n",
    "We'll clean the dataset and finally transform it to support as a training data for **suicidal-electra** model."
   ]
  },
  {
   "cell_type": "code",
   "execution_count": 7,
   "metadata": {
    "colab": {
     "base_uri": "https://localhost:8080/",
     "height": 424
    },
    "id": "wuSgcp7plgwx",
    "outputId": "a204a398-a304-477f-db94-8eab12146a07"
   },
   "outputs": [
    {
     "data": {
      "text/html": [
       "<div>\n",
       "<style scoped>\n",
       "    .dataframe tbody tr th:only-of-type {\n",
       "        vertical-align: middle;\n",
       "    }\n",
       "\n",
       "    .dataframe tbody tr th {\n",
       "        vertical-align: top;\n",
       "    }\n",
       "\n",
       "    .dataframe thead th {\n",
       "        text-align: right;\n",
       "    }\n",
       "</style>\n",
       "<table border=\"1\" class=\"dataframe\">\n",
       "  <thead>\n",
       "    <tr style=\"text-align: right;\">\n",
       "      <th></th>\n",
       "      <th>text</th>\n",
       "      <th>class</th>\n",
       "    </tr>\n",
       "  </thead>\n",
       "  <tbody>\n",
       "    <tr>\n",
       "      <th>0</th>\n",
       "      <td>Its not a viable option, and youll be leaving ...</td>\n",
       "      <td>0</td>\n",
       "    </tr>\n",
       "    <tr>\n",
       "      <th>1</th>\n",
       "      <td>It can be hard to appreciate the notion that y...</td>\n",
       "      <td>1</td>\n",
       "    </tr>\n",
       "    <tr>\n",
       "      <th>2</th>\n",
       "      <td>Hi, so last night i was sitting on the ledge o...</td>\n",
       "      <td>0</td>\n",
       "    </tr>\n",
       "    <tr>\n",
       "      <th>3</th>\n",
       "      <td>I tried to kill my self once and failed badly ...</td>\n",
       "      <td>1</td>\n",
       "    </tr>\n",
       "    <tr>\n",
       "      <th>4</th>\n",
       "      <td>Hi NEM3030. What sorts of things do you enjoy ...</td>\n",
       "      <td>1</td>\n",
       "    </tr>\n",
       "    <tr>\n",
       "      <th>...</th>\n",
       "      <td>...</td>\n",
       "      <td>...</td>\n",
       "    </tr>\n",
       "    <tr>\n",
       "      <th>495</th>\n",
       "      <td>Its not the end, it just feels that way. Or at...</td>\n",
       "      <td>0</td>\n",
       "    </tr>\n",
       "    <tr>\n",
       "      <th>496</th>\n",
       "      <td>It was a skype call, but she ended it and Vent...</td>\n",
       "      <td>0</td>\n",
       "    </tr>\n",
       "    <tr>\n",
       "      <th>497</th>\n",
       "      <td>That sounds really weird.Maybe you were Distra...</td>\n",
       "      <td>0</td>\n",
       "    </tr>\n",
       "    <tr>\n",
       "      <th>498</th>\n",
       "      <td>Dont know there as dumb as it sounds I feel Hy...</td>\n",
       "      <td>1</td>\n",
       "    </tr>\n",
       "    <tr>\n",
       "      <th>499</th>\n",
       "      <td>&amp;gt;It gets better, trust me.Ive spent long en...</td>\n",
       "      <td>0</td>\n",
       "    </tr>\n",
       "  </tbody>\n",
       "</table>\n",
       "<p>500 rows × 2 columns</p>\n",
       "</div>"
      ],
      "text/plain": [
       "                                                  text  class\n",
       "0    Its not a viable option, and youll be leaving ...      0\n",
       "1    It can be hard to appreciate the notion that y...      1\n",
       "2    Hi, so last night i was sitting on the ledge o...      0\n",
       "3    I tried to kill my self once and failed badly ...      1\n",
       "4    Hi NEM3030. What sorts of things do you enjoy ...      1\n",
       "..                                                 ...    ...\n",
       "495  Its not the end, it just feels that way. Or at...      0\n",
       "496  It was a skype call, but she ended it and Vent...      0\n",
       "497  That sounds really weird.Maybe you were Distra...      0\n",
       "498  Dont know there as dumb as it sounds I feel Hy...      1\n",
       "499  &gt;It gets better, trust me.Ive spent long en...      0\n",
       "\n",
       "[500 rows x 2 columns]"
      ]
     },
     "execution_count": 7,
     "metadata": {},
     "output_type": "execute_result"
    }
   ],
   "source": [
    "tda_export = tda_posts[['Post', 'Label']].copy()\n",
    "\n",
    "tda_export['Label'] = tda_export['Label'].map(lambda label: LABEL_SUICIDAL if (label == 'Ideation' or label == 'Attempt') else LABEL_NON_SUICIDAL)\n",
    "tda_export = tda_export.rename(columns={\"Post\": \"text\", \"Label\": \"class\"})\n",
    "\n",
    "tda_export.to_csv(TDA_DATASET_EXPORT_PATH, index=False)\n",
    "\n",
    "tda_export"
   ]
  },
  {
   "cell_type": "markdown",
   "metadata": {
    "id": "Ja927Ly9qJ_k"
   },
   "source": [
    "## Data Source: ag\n",
    "\n",
    "https://www.kaggle.com/datasets/amangoyl/reddit-dataset-for-multi-task-nlp"
   ]
  },
  {
   "cell_type": "markdown",
   "metadata": {
    "id": "QDwi9BC6qfnL"
   },
   "source": [
    "### Pull Data"
   ]
  },
  {
   "cell_type": "code",
   "execution_count": 8,
   "metadata": {
    "colab": {
     "base_uri": "https://localhost:8080/",
     "height": 442
    },
    "id": "E-uDLI4WqeJO",
    "outputId": "0c2a991b-78bc-406b-9412-8e7a6c99efb0"
   },
   "outputs": [
    {
     "name": "stdout",
     "output_type": "stream",
     "text": [
      "Skipping, found downloaded files in \"./datasets/downloads/reddit-dataset-for-multi-task-nlp\" (use force=True to force download)\n"
     ]
    },
    {
     "data": {
      "text/html": [
       "<div>\n",
       "<style scoped>\n",
       "    .dataframe tbody tr th:only-of-type {\n",
       "        vertical-align: middle;\n",
       "    }\n",
       "\n",
       "    .dataframe tbody tr th {\n",
       "        vertical-align: top;\n",
       "    }\n",
       "\n",
       "    .dataframe thead th {\n",
       "        text-align: right;\n",
       "    }\n",
       "</style>\n",
       "<table border=\"1\" class=\"dataframe\">\n",
       "  <thead>\n",
       "    <tr style=\"text-align: right;\">\n",
       "      <th></th>\n",
       "      <th>Unnamed: 0</th>\n",
       "      <th>Post</th>\n",
       "      <th>Suicidal_label</th>\n",
       "      <th>Sentiment_label</th>\n",
       "    </tr>\n",
       "  </thead>\n",
       "  <tbody>\n",
       "    <tr>\n",
       "      <th>0</th>\n",
       "      <td>0</td>\n",
       "      <td>Ex Wife Threatening SuicideRecently I left my ...</td>\n",
       "      <td>0</td>\n",
       "      <td>0</td>\n",
       "    </tr>\n",
       "    <tr>\n",
       "      <th>1</th>\n",
       "      <td>1</td>\n",
       "      <td>Am I weird I don t get affected by compliments...</td>\n",
       "      <td>1</td>\n",
       "      <td>1</td>\n",
       "    </tr>\n",
       "    <tr>\n",
       "      <th>2</th>\n",
       "      <td>2</td>\n",
       "      <td>Finally   is almost over  So I can never hear ...</td>\n",
       "      <td>1</td>\n",
       "      <td>0</td>\n",
       "    </tr>\n",
       "    <tr>\n",
       "      <th>3</th>\n",
       "      <td>3</td>\n",
       "      <td>i need helpjust help me im crying so hard</td>\n",
       "      <td>0</td>\n",
       "      <td>0</td>\n",
       "    </tr>\n",
       "    <tr>\n",
       "      <th>4</th>\n",
       "      <td>4</td>\n",
       "      <td>I m so lostHello  my name is Adam   and I ve b...</td>\n",
       "      <td>0</td>\n",
       "      <td>0</td>\n",
       "    </tr>\n",
       "    <tr>\n",
       "      <th>...</th>\n",
       "      <td>...</td>\n",
       "      <td>...</td>\n",
       "      <td>...</td>\n",
       "      <td>...</td>\n",
       "    </tr>\n",
       "    <tr>\n",
       "      <th>226948</th>\n",
       "      <td>227680</td>\n",
       "      <td>I sound like a dudebro but I can t handle my f...</td>\n",
       "      <td>0</td>\n",
       "      <td>0</td>\n",
       "    </tr>\n",
       "    <tr>\n",
       "      <th>226949</th>\n",
       "      <td>227681</td>\n",
       "      <td>Fuck my sister She is such I fucking bitch and...</td>\n",
       "      <td>1</td>\n",
       "      <td>0</td>\n",
       "    </tr>\n",
       "    <tr>\n",
       "      <th>226950</th>\n",
       "      <td>227682</td>\n",
       "      <td>I ve been suicidal for years and no one knowsT...</td>\n",
       "      <td>0</td>\n",
       "      <td>1</td>\n",
       "    </tr>\n",
       "    <tr>\n",
       "      <th>226951</th>\n",
       "      <td>227683</td>\n",
       "      <td>My boyfriend is sick so I took some Polaroids ...</td>\n",
       "      <td>1</td>\n",
       "      <td>0</td>\n",
       "    </tr>\n",
       "    <tr>\n",
       "      <th>226952</th>\n",
       "      <td>227684</td>\n",
       "      <td>What would happen to my dog  M What would happ...</td>\n",
       "      <td>0</td>\n",
       "      <td>0</td>\n",
       "    </tr>\n",
       "  </tbody>\n",
       "</table>\n",
       "<p>226953 rows × 4 columns</p>\n",
       "</div>"
      ],
      "text/plain": [
       "        Unnamed: 0                                               Post  \\\n",
       "0                0  Ex Wife Threatening SuicideRecently I left my ...   \n",
       "1                1  Am I weird I don t get affected by compliments...   \n",
       "2                2  Finally   is almost over  So I can never hear ...   \n",
       "3                3          i need helpjust help me im crying so hard   \n",
       "4                4  I m so lostHello  my name is Adam   and I ve b...   \n",
       "...            ...                                                ...   \n",
       "226948      227680  I sound like a dudebro but I can t handle my f...   \n",
       "226949      227681  Fuck my sister She is such I fucking bitch and...   \n",
       "226950      227682  I ve been suicidal for years and no one knowsT...   \n",
       "226951      227683  My boyfriend is sick so I took some Polaroids ...   \n",
       "226952      227684  What would happen to my dog  M What would happ...   \n",
       "\n",
       "        Suicidal_label  Sentiment_label  \n",
       "0                    0                0  \n",
       "1                    1                1  \n",
       "2                    1                0  \n",
       "3                    0                0  \n",
       "4                    0                0  \n",
       "...                ...              ...  \n",
       "226948               0                0  \n",
       "226949               1                0  \n",
       "226950               0                1  \n",
       "226951               1                0  \n",
       "226952               0                0  \n",
       "\n",
       "[226953 rows x 4 columns]"
      ]
     },
     "execution_count": 8,
     "metadata": {},
     "output_type": "execute_result"
    }
   ],
   "source": [
    "od.download(AG_DATASET_URL, DATASETS_DOWNLOAD_PATH)\n",
    "ag_data = pd.read_csv(f'{DATASETS_DOWNLOAD_PATH}/reddit-dataset-for-multi-task-nlp/Dataset_Suicidal_Sentiment.csv')\n",
    "ag_data"
   ]
  },
  {
   "cell_type": "markdown",
   "metadata": {
    "id": "xyqxIalEsqdS"
   },
   "source": [
    "### Analyze data based on the labels\n",
    "\n",
    "----\n",
    "\n",
    "**Suicidal Labels**\n",
    "\n",
    "**Suicidal** - 0\n",
    "\n",
    "**Non-Suicidal** -1\n",
    "\n",
    "----\n",
    "\n",
    "**Sentiment Labels**\n",
    "\n",
    "**Negative** - 0\n",
    "\n",
    "**Positive** - 1\n",
    "\n",
    "**Neutral** - 2"
   ]
  },
  {
   "cell_type": "code",
   "execution_count": 9,
   "metadata": {
    "colab": {
     "base_uri": "https://localhost:8080/"
    },
    "id": "PXx1IqWDs5Uj",
    "outputId": "c40201e5-ab0c-4622-dcb2-4e9b030958da",
    "scrolled": true
   },
   "outputs": [
    {
     "name": "stdout",
     "output_type": "stream",
     "text": [
      "Suicidal & Negative:\n",
      "\n",
      "- Would you want your son to leave a suicide note I think my parents know my suicide is coming  They ve stopped asking me about my future plans  how my job hunting is going  etc  We don t speak much outside of logistics  things like  What do we need from the grocery store   Should I leave a suicide note when I punch out next month  Would that make it worse\n",
      "- A cry for helpWill this ever end  I can t get all my memories out of my head  My thoughts come and take over my body  I feel frozen and my brain convinces me that following an urge will bring me closer to my  goal  even though logically I know it s not in that moment the urge tricks my logic and that becomes the new truth  I did my urge   days in a row   years almost later I m still so hurt over an ex I hate myself I hate myself  I wanna just jump off a building and finish everything  I m in pain because I m a broken person  I wanna be numb  I m so alone right now I hate myself I hate seeing myself I hate everything about me all I ever wanted was to be accepted feel normal not be alone\n",
      "- im alone with my thoughts and that never ends wellive been to therapy for years and it didnt help  everyone says its because i dont study in school enough even though i do  my mother laughed at me the first time i cut my wrists wasnt that bad but what mother laughs hysterically at her daughter when seeing this  ive been told i am delusional and that im just an attention seeker  and so on and so forth  these thoughts make me have to lay in bed for two hours so i can fall asleep only to wake up from nightmares multiple times   i harm myself in a few hideable ways but i think my mom discovered that they arent  accidents  maybe now she wont laugh  i now have a prune sized mega scratch that bleeds lightly without end  i have multiple burns made with lizard feeding tongs  i have cuts  ive gotten myself poisoned  ive cried hours and hours every night before bed tears fall  the only nights i dont with exceptions unfortunately  are when im with my boyfriend  even then last time even  i cried after he fell asleep so he wouldnt hear me  its what he hates about me  the sole and only thing he dislikes    i need to find something to do while alone at home  im bored of the   videogames i play alone  all my friends are either away at work or dont have a coop game i or them can get  my life is slowly falling appart with the hardest school year yet coming from september  im not really that close to actually wanting to commit suicide but i just want to get away from my thoughts  what can i do to distract my mind so much that i dont have   reasons that make me wanna cut my arm   sorry for any mistakes but i am currently crying and having a havoc in my brain\n",
      "- i dont recall a moment in lifei dont recall one moment in my life  where i didn t complain ever since i was   till now as an adult not one day passed where i didn t feel like absolute shit or complained i m so tired\n",
      "- Hahahahahaha please ignore meI m never gonna be a real person  I feel incapable of feeling joy  Even when something good happens to me  It never lasts  I m wasting my words on strangers on the internet  I ll never be capable of relationships and love  No friendship  Nothing  Everything I have is fake  My job is the only good thing in my life  And I have no one to trust and it s my fault because I drive away everyone who could possibly help me  I m too broken to trust that things are gonna work out  Everyone just tells me to get a therapist  But that s the one thing I can t do  Spill all my pathetic crap to some doctor who s just going to tell me to drink more water and try breathing  Bullshit  I ve been in the mental health system and it s all bullshit  No one knows how to help anyone  I m not going to get anywhere better than this  I have to resign myself to failure for the rest of my life  It s my fault  If I had just had the energy to push it all aside long enough to live for others  But no  No one understands  I m done  I m done  Please don t read this  I m just a fuck up\n",
      "- days  Just a little over a month left  It s surreal I just can t drag myself out of the bed anymore  It s all too much  I ve loved someone for   years who won t even talk to me anymore despite having a boyfriend who would give me the world if I asked for it  I have no friends left  Every time I tell myself that things will get better  they end up worse  I just need to decide how I want to spend this last bit of time\n",
      "- I need help but I m too afraid to tell my therapist what s wrong with me   I need to tell because it s driving me to suicide but I haven t been able to bring myself to tell   My problems are a mixture of things that are real  things that are imagined  things I m not sure are real  thoughts that torment me daily and lies  I am so guilty I have lied to the one person who has ever taken me seriously and helped me that I want to end my life  I feel part of my problem is I have munchausen syndrome   Sorry i can t spell  I also have real mental problems too   And I can t admit it to my therapist and its making me more and more guilty and I have a plan to kill myself and I want to confess to my therapist but I feel my therapist will be hurt and angry  Even though I have thoughts and a plan to kill myself I won t act on them  I m afraid my therapist will not believe the true things I have told after they find out  This is tearing me apart and I feel guilty everyday and I m in nearly constant mental torment and I hate myself I know I don t deserve help but I NEED IT I NEED IT AND THIS GUILT IS KILLING ME\n",
      "- I lost a friend yesterday and I don t know what to do anymore This post was NOT made for karma or attention purposes If it matters i m  M  amp  will be   on the  th I met a girl back in May and her and I became friends  She inspired me to change in so many ways  amp  become less lazy as well as a better person in general  I started eating better  working out  amp  seeing a therapist for other problems I d been having  amp  I even started to do things that I knew would help me overcome these problems later  My parents and sister even noticed and were proud of how much i d changed  though only I knew it was because of her  Just two days ago we hung out with someone else  I even have pictures of us from that day  and just yesterday me  amp  her had a short videocall  A few hours after the call I made a joke that was just that  a joke  It was a playful jab that wasn t clearly mean or rude or attacking or shaming  but she took the wrong way and now she wont talk to me and has blocked me on pretty much everything  I start school on the  th of August  amp  I just dont know what to do anymore  I m generally bored and sick of nothing in my life going right  I m sick of only being happy for short periods of time and having my happiness taken away from me just when everything seems to be going alright  amp  i m still in shock and sad at how quickly such an amazing friendship ended  I still had a month left in summer and we had so much planned and now its all gone  just like that  I don t really have too many other people to hang out with and I think that if I don t die or kill myself before school starts I know i ll just feel alone and empty  and I don t know when it ll end  amp  I ll be happy anymore and I kind of don t feel like waiting\n",
      "- I m not sure if this is the right place for this  but my best friend has attempted suicide multiple times and I have no idea what to do Background info  Me and my friend are both    so you can just leave now if you re gonna brush this off as  kid problems  and we have known each other for about five years So  my best friend  let s call her Alexis for the sake of the story  has generally always been a happy girl  I ve known her for about   years now  and while she does frequently have quarrels with her parents  she s generally an optimistic girl  This past month or so  though  she s been different   Her and her parents have been fighting more frequently  with them calling her names and making fun of her  She was really distraught over it  so I tried to comfort her  Fairly recently  we were talking about how her depression has been getting worse and worse  and she confessed that she had attempted suicide twice  This confession hit me like a sack of bricks  I was devastated  Since then  she s been saying things like   I don t think I can handle it anymore  and  I m just done with it all  and it honestly mortifies me  She says that her fighting with her parents does play a part in why she tried to kill herself  but that the main reason was something bigger  something she couldn t tell me  This really worries me  since we practically tell each other everything  even our deepest secrets  I m really trying to support her  but being so young and all  I don t have much experience in that department Sorry for dragging this on so long  but I really need some advice  How can I be there for her  How can I help her through her depression  I m sure there are people on here who are a lot older and wiser than me  any advice or tips would be much appreciated\n",
      "- How do I help my  depressed  friend  I am scared for his life My long term friend admitted today that he was going to see a councellor because he is afraid that his mind is going like his fathers  I am not sure if it s depression but that s all I can guess right now  He could just be sexually frustrated as he hasn t been with someone for a long long time  It s also possible that he s gay and is afraid to come out so has kept everything bottled up  I am open to other suggestions His father died years ago  but for more than a year before that  his father changed  There was not much difference at home except he was  going out  more  They found out it was to the pub  so he was drinking regularly    months after that he  the father  apparently exposed himself to a younger female neighbor in his front garden  no proof  but his strange behavior made it believable  The police came to  sort  it out  He also seemed to be depressed and just sat around the house watching TV  The drinking got worse until his life savings ran out to which he kept drinking on pension money until he died  He died in his sleep because of a trauma wound from falling down while drunk Anyway  my friend told me his brain has been  funny  He has been cranky with people recently and hasn t been spending time with his friends family as much as normal  but still quite a lot  He has admitted to looking at porn a lot  and saying that some of it he probably shouldn t be looking at I have known this guy for   years  I am   he is almost that  I would do anything to help him but I don t know what I can do  Please help me Reddit  We are both male  not partners  just friends  I have already told him that he can tell me anything and that if he needs anything to just give me a call to talk it over  I also told him if he needs a special  holiday  somewhere that could help  I would go with him too  if he wanted  I have also told him that looking at porn a lot isn t weird or anything I could do with some advice  Thanks for any suggestions you can give me\n",
      "\n",
      "\n",
      "Non-Suicidal & Negative:\n",
      "\n",
      "- I m supposed to be doing dishes right now Hi  I don t like doing dishes  so I m posting on here lol Goodbye\n",
      "- Any PC people out here  I m tryna build myself a pc  preferably around   cuz I ve been saving for a good bit n I d like to have some money for some games  anyways  any suggestions  I ve narrowed down a list n I ve looked at a CPU n GPU but is there anything I should know bout compatibility between all the parts n motherboard n monitor etc  any n all help is much appreciated  I m also open to any pc experts dming me advice since I ve never owned a pc n have played games ona console my whole life\n",
      "- How do I stop crying inside so often and why do I feel so lonely  I m adorable  I know\n",
      "- the concept of sex appeal was actually created when god designed me this is true  i was there  he said  wow i like sea shanties is so hot and sexy  direct quote  from god\n",
      "- Anyone else have nightmares about school shootings I just woke up from a horrible nightmare about my school being targeted   I could hear the gun shots and my classmates screaming  Next thing I knew I wake up in my bed  I check my phone to see if there s any news but saw nothing   I don t know what to think about it\n",
      "- play among us with us code is efofwq uwhebebebe filler filler filler\n",
      "- I got a date today and I m wonder what the girls on here wouldn t want me to say if I was dating you Like if I was dating you what wouldn t you want me to say on the first or second date\n",
      "- Guys don t care about boob ass sizes  I posted this here yesterday but deleted it in fear that my girlfriend would see this post  but then I realized I honestly don t care if she sees this so yeah lol I m a guy  and I honestly don t care about how big my partner s boobs ass is  and the guys that I m friends with think the same  It s something about you that you can t change  and the guys with a brain actually understand that  Edit  I am NOT speaking for every guy If you have a small boobs ass that s okay  Hell  I honestly prefer small and average over big ones  and I m sure many others do as well  Plus  I m pretty sure they are easier to spoon  Just gotta wait for the right guy  or girl  Don t worry if you re small  because if someone decides to break up with you over boobs ass size  at least you figured out they were a jerk  and who the fuck wants to be with a jerk  If you can t give a guy an orgasm because of your boobs ass  you still have your hands and mouth  Just learn to use them and I m sure you and your partner would both have a good time   Also  I d rather have someone a small or average size to cuddle rather than something big that could potentially crush my cock  However  if I end up having sex with a girl who is big boobs ass  that s perfectly okay with me too  I d just make sure to have good communication with them Now I m not gonna leave out the ones who are huge  Most people think  Bruh they got a gigantic dick why would they be self conscious  There are some stories of guys crying because their partner was too big  so some women are afraid they ll hurt their partner  Don t worry  Ask if they can handle it  and if they can then great  If they can t  just go slow and try not to go all the way in  and always have communication  Ask if you could go deeper  or if they re in too much pain and they need a break  Communication is key for you and your partner to give each other a good time   If you can t get a guy to orgasm  once again  you got your hands and mouth  Ask them what feels good and you guys will both be perfectly fine You girls shouldn t worry too much about boobs ass size  This even goes into height  You don t need to be  ft or smaller  I m   and my girlfriend is probably around   or  ft  If a someone actually loves you  they ll care about who YOU are more than your height and boobs ass size  And don t be sad if you haven t found that person yet  You re young  and still have the homies  gt But that s all  I hope this post gave all of you men a bit more confidence in yourselves  D Edit  Okay so I m bad with words sometimes so I apologize for any misunderstandings in this post  Yes  you guys can all have preferences  I just meant that if you re being an asshole about your partner s size   something they have no control over   you don t have a brain  I said I preferred small and average over big  but that doesn t mean I m against having sex and enjoying it with someone who has a big package  And no  I m not speaking for every guy  I m just saying that you girls shouldn t be so self conscious thinking every guy cares about size  So please chill out in the comments  especially since this is kinda blowing up and I d rather not see any arguments in here\n",
      "- imagine being with such a wehraboo him and his friends sing Panzerlied in his car lmao it was funny af lmao  i wuv him UwU\n",
      "- I pulled up to a girl and said  Hey you  Get into my car  She ran away screaming and saying she d call the police        I hate how some people just don t know how to appreciate Billy Ocean songs\n",
      "\n",
      "\n",
      "Suicidal & Positive:\n",
      "\n",
      "- Engulfed and burned by the guilt of indulgence This story begins when I was a freshman in high school  Fairly average I would say  just started counseling for depression and anxiety  not very popular  annoying  etc  It was just after winter break and our school s second theatre production was beginning and I was hyped because the last one was so fun  This one wasn t  I m more of a construction guy but we were forced to pick two crews so props was my pick  After the second meeting one of the seniors ended up asking me out and  being a stupid freshman  I went along with it  It was fun for a bit but sometimes I was teased by others including my parents for having an older girlfriend  It didn t really bother me until at a party  one of the parents of a close friend of mine had spread a rumor that reached my parents that me and this girl had publicly gone too far in school  This forced my parents and grandparents to pressure me into breaking up with her  I didn t know at the time that this was a good thing and so after my regret we ended up getting back together in the middle of the last production of the year  It was better and I didn t let any adults catch suspicion this time  Just past intermission  closing night  we ended up sneaking out and performing oral on each other  At the time it was pleasurable and fun  Years later  the thought and the guilt haunts me  I feel violated by something I have no control over now  I have a difficult time getting intimate with people after that and it didn t help that when I did getting another girlfriend I ended up opening up about all my feelings and she said I was terrifying  like a monster  she told me never to talk to her again and blocked me out of her life completely  This experience really tore me up and put things back together in a way that I want so badly to be piked by others and a girlfriend really sounds nice but at the same time getting intimate at all sends me back to these events and is only one of the reasons I want to end my own life  I don t fit into the mold of anything desirable  It all starting piecing together again after earlier today  I was at a meeting for designing a set for an upcoming local musical and some of my peers were talking about how interesting  relaxed  and fun their lives were simply in the past week while I had only to point out that one day I slept for   hours and then woke up  had lunch and an energy drink  and fell back asleep  I get teased for this by my peers  when I even see them  and it just makes me feel like I m not even supposed to be anywhere but my mind says I can t just below nowhere  I m so fucking lonely and sad most of the time because of this and so I just sleep because in my dreams at least I can interact with people that don t loathe me  I don t know what to do and the thought of hanging myself keeps getting louder and louder to the point where I can see visions of my limp  carved  and bloodied body hanging from a tree burned into my eyelids and where I can see other people s reactions to my death  This is the only place I can think to post these thoughts\n",
      "- I don t know what to do My family has been going through a rough time  In a span of three months  both of my grandfathers passed away  and as a result of that  my mother took herself and my two siblings to our home country  Of course  it was a mutual decision  leaving myself and my father behind  We thought that they would be back in a month or two  Unfortunately  they were gone for half the year  arriving back in May of   Those five months were the hardest of my life   I thought everything was back to normal  Our family was together again  We were happy  For a short period of time  My mother and father argued constantly for the rest of   with a few  honeymoon  periods in between  I didn t understand  If they were still sleeping together  why did they have head to head screaming matches  Things only got worse when my grandmother from my father s side came to visit  My mother is not a fan of my father s side of the family  and naturally  she was cold to my grandmother  I didn t care  it was your classic in law feud   Everything started to go downhill from there  My mother tells me of past affairs of my father has had  my father tells me of my mother chatting with some man over Facebook  I don t know who to trust  I ve seen countless suicide attempts from my parents  although no one is willing to finish it off  I haven t told anyone of our family s dilemma  besides you  Reddit  Now I m having dark thoughts  I ve thought of attempting suicide  but I m scared  Every night  when they have their bouts  I imagine myself going down there and driving a knife through my chest  just to shut them up  The only thing that s stopping me are my two siblings  If I left this world  I would leave them with two parents who only seem to yell  Don t get me wrong  I love my mother and father  but they ve given me a choice  Live with dad  or live with mom  And  I  can t live with that  I don t want to be apart from my siblings anymore  I don t know what to do\n",
      "- Let s watch and see what happens I just took all my sleep prescription pills not exactly the best way to go since I wanted to go with a  bang  See I was always the attention seeking type  It made me feel wanted and almost  appreciated  So maybe this is why I m telling u guys all this my dream way to disappear was by hanging in an empty apartment cold room  windows open lights off  Harlem river  playing in the background  I would block my family on everything  so they would have no way of contacting me  not knowing I was dead or alive i hate them u see not my mom though she helped me with everything gave me an education cared for me when I didn t care for myself but I let her down now  She s in the other room fast asleep its  am and I m scared out of my mind  The only thing on my mind right now is if the suicide note on my desk is good enough\n",
      "- Intrusive thoughts oh boyrecently it feels like  i have to distract myself all the time or else these negative feelings catch up to me and flood my brain and tell me everything sucks and that i should die  i get close to writing my suicide note and just leaving everything behind it started a few days ago  when i found out someone who i thought i was on good terms with was actually talking shit about me behind my back  and im not over how hurt i feel  i feel like i should be  but im not but more importantly than that  im alarmed at how strongly i feel the need to escape  but how guilty i feel that i want to do that  i dont want my friends and family to be sad  i dont want my cats to think i abandoned them  my life insurance is too low  my housemates would have to move  that guilt is the only thing thats really making me stop and think before i go through with anything i havent told anybody about my thoughts because i dont want to worry them  i set up a therapy appointment but it s not until next week  ive been to a psych ward a few years ago and i dont ever ever want to go again i just dont know what to do but i need to tell somebody\n",
      "- I m  I don t knowI m fucked  I haven t taken my bipolar meds in years  I m drunk  but I want to die  Everyone sent me here  Why\n",
      "- Social anxiety is ruining my lifeLife could be great for me  I m young  I could be everything I want to be  I could have friends   But I have social anxiety  Which means every day I wake up and I m terrified because I ll have to go to school  Which means I will never be able to pursue the career I want because I won t get into university with my grades being pulled down by oral marks and even if I do  how could I ever be a psychologist when I am afraid to talk to people  Which means that I will be stuck in my unhappy relationship forever because he s my only friend and I am absolutely terrified of being alone   I just don t want to be like this  Social anxiety isn t just shyness  it s awkwardness  A lot of it  And I hate myself for being this way  so  so much but I can t change  I ve been wanting to die for   years  I can t face another fucking day at school being the weirdo  I just can t  I m so done  So fucking done  But I m too much of a coward to go through with this  Makes me feel even worse because there s nothing I can do  I just gotta get up every day and live this life I don t want to live\n",
      "- I ve lost everything I spilled water on my laptop  My dad says it s unfixable  I didn t have a backup I ve lost an entire film script  TV show pilot  novelette that was meant to be submitted for publishing in less than two weeks  and two finished songs And the archives of several years in my life  Including all that s left of my first girlfriend I don t know what to do\n",
      "- HelloI hate to be a burden but I found this subreddit and really needed to post  I have friends who are on reddit so I worry about them finding this  This thread will be a confession thread as well  I ve been or thought about suicide since a very young age  At least age   or younger   Every day I think of ways to kill myself either the most painful  like torture  or quick and painless  Some of the worst one s involve stabbing myself over and over again throughout my whole body then saving the crucial area s for last  The painless would have to be either overdosing or starvation    Everyday I  see  myself die  I guess it s either my imagination or some sort of mental issue I have  I literally see pictures or  video s  of my own death  Whether it s being ran over by a bus or car  a plane crashing into where I live  falling down the steps and breaking my neck or worse  Burned alive  buildings collapsing  bus s turning over and glass going through my neck  all of these happen  I have at least   known mental disabilities or disorders as well as one major physical one that makes me unable to work  I cannot find love  I hate that I cant work  I hate that I am short  big nosed  small D  horrible hair  ugly feet  not  straight back  everything I hate about myself  I had a horrendous childhood  I don t want to post it on this thread because my friends would know it was me  Most of them know my story and my history I really don t know what I expect to get from posting here but I guess it might help me to get it out a little\n",
      "- What is the point of living when your only friend has left you  Killl me please\n",
      "- Complicated situation has me at my wits endI honestly just need someone to talk to  anyone interested in hearing my story  I don t feel comfortable posting it online unfortunately\n",
      "\n",
      "\n",
      "Non-Suicidal & Positive:\n",
      "\n",
      "- Day   of posting something good that happened today The weather was nice today  went outside for a bit  Also Bill Wurtz s new song is epic\n",
      "- Heeeelp meh plz I think I might be crushing on my friend  They pat me on the head sometimes and they just act more caring than my past friends  Please halp\n",
      "- Wish me luck guys I have a LA assignment where we have to write about a time where someone older wiser than you told you a piece of advice  I don t have anyone like that so I m using Levi Ackerman from Attack on Titan\n",
      "- I just needed to express myself I am   years old Im really fucking lonely  i had a girlfriend for two weeks and she left me bc she liked someone else Since that i ve done nothing but to sit in my room playing videogames and cry I have lost all of my friendships and i dont have anyone to talk to My parents are getting concerned and try to talk and relate with me but it doesnt work or help I just want someone to talk to or hug Im posting this here bc i have nobody to talk to Sorry\n",
      "- Sing along Snap back to reality\n",
      "- Can somebody pls stop my dad He still repeats lyrics from the song i listened to   years ago  when i was in  rd grade  Song starts with  oh no  and he is repeating those   words after   years  Help\n",
      "- what is your favorite type of potassium  mine is potassium citrate but potassium nitrate has its moments what is your favorite type of potassium  mine is potassium citrate but potassium nitrate has its moments i like potassium citrate because Potassium citrate  also known as tripotassium citrate  is a potassium salt of citric acid with the molecular formula K C H O  It is a white  hygroscopic crystalline powder  It is odorless with a saline taste  It contains   potassium by mass  In the monohydrate form it is highly hygroscopic and deliquescent  As a food additive  potassium citrate is used to regulate acidity and is known as E number E  Medicinally  it may be used to control kidney stones derived from either uric acid or cystine   Potassium citrate is rapidly absorbed when given by mouth and is excreted in the urine  Since it is an alkaline salt it is effective in reducing the pain and frequency of urination when these are caused by highly acidic urine  It is used for this purpose in dogs and cats  but is chiefly employed as a non irritating diuretic  Potassium citrate is an effective way to treat manage gout and arrhythmia medical citation needed  if the patient is hypokalemic  It is widely used to treat urinary calculi  kidney stones  and is often used by patients with cystinuria medical citation needed  A study of   patients with recurrent stones found that it reduced the frequency of stones from   per year to a half per year  It is also used as an alkalizing agent in the treatment of mild urinary tract infections such as  cystitis It https cystitis It  is also used in many soft drinks as a buffering agent\n",
      "- Don t mind me just trying something u nes u snes u n  u gamecube u wii u wiiu u nintendoswitch u nintendo\n",
      "- I m very socially awkward how do I make friends I met this guy at school and he actually reached out to me first and started talking to me  it was during a biology lab and it made me happy af cause I ve had no friends for   years and nobody barely notices me  I wanna be his friend cause he s funny and he s super chill but how do I not seem pushy or cringe\n",
      "- I can t believe I got banned cos they thought I was a bot I still can t believe this\n",
      "\n",
      "\n",
      "Suicidal & Neutral:\n",
      "\n",
      "- Break up with everybody that you can go without any regrets Thinking about separating from my husband and leave my friends behind  Move to another city  don t meet knew people while cut myself off from my family  If there is no one there who cares  would it be easier to kill myself Nobody who would care Nobody who would be sad\n",
      "- gone ahead with it Because my mouth Is wide with laughter And my throat Is deep with song You did not think I suffer after I ve held my pain So long Langston hughes I am sorry my peers  amp  family  I have been struggling with depression for the better part of my life   The ever revolving door of depression is something I can t shake anymore  Celebrate my life  do not cry please   This is of my own accord  amp  I am finally happy   I have started my method and no turning back now\n",
      "- I don t know how much more of covid life I can takeJust venting here  I don t think I ll last a whole winter like this  My one shred of hope for the future has just been lost  I have nothing to keep me going  I m a pointless waste of life on this planet  The years just keep getting worse and I can t take it anymore  Its really just not worth it and hasn t been for a long time  It s just shitty  I know loads of people feel like this  I guess I m just one of the weak ones ready to check out\n",
      "- Even more suicidal now I took the time to write out a huge fucking post about my life and no one even fucking commented  aww I m sorry   or some shit like that the only comment was telling me to lose weight and it had to be fucking deleted  I feel like an attention whore but looking at my past  who can blame me  but it made me feel so much more worse  because no one actually fucking cares enough to comment i want to fucking die wow i m sorry if it seems really desperate but i mean  I am desperate tbh my entire life has consisted of isolation  ya know\n",
      "- anyone else with a chronic illness had to move back in with a parent who abused them throughout childhood cos you can t support yourself spent childhood hanging onto the fact I could one day leave  fuck my whole existence\n",
      "- Exactly   year from my suicide scare  it gets so much better Exactly   year ago  I keep a counter app on my phone  I came the closest I have ever come to suicide  I call it a suicide scare rather than attempt since I did not take that final step and fail  I did however get very very close I had self harm scars all over my body  the deepest of which still haven t healed  It seemed certain to me that my pathetic  empty loveless life would end in suicide  and that once this was certain  why not bring up the date  I confided in the one person I could talk to that i d decided to take my life  A move that I know realize was a cry for help  She called the police  who visited my university  therapist  house and parents Until then  i d been keeping my illness and struggles to myself believing I was loved and cared for by no one  The police visit shocked me awake   It made everything real for the first time in years  I realized then if i didn t get better  I would die and pass my pain onto those around me The next year was a long  long road  I hadn t realized how much I had been numbing my emotions  and learning to live with them again was excrutiatingly painful at times Today    days after the police came knocking on my door  I ran my first half marathon  In november  I will run my first marathon and in two years time my first half Iron Man So much can happen in   year  The man who lay on his bed gougeing marks in his skin to have some visible sign of the pain he felt inside  never would ve believed he could stop self harming or close his eyes without picturing his death And if he had taken his life  he never would ve found a sport he loved  or experienced any of the joy it gives me now I m not saying you have to take up endurance running  though I highly recommend it  I m trying to show anyone who s where I was last year  that it can and does get some much better You are all loved  you all matter  despite what your brains might be telling you\n",
      "- I said goodbyeI think it s finally time I ve had a lot of false alarms but I said goodbye to my best friend I wish I could ve loved her the way she loved me\n",
      "- How do you tell someone you want to end your life Constant suicidal thoughts are getting to me  Someone close to me knows I ve made a plan before  but that was a long time ago  No one knows my brain assaults me with suicidal thoughts every hour upon every day  How do you put that burden on another person  How do I tell someone this without changing the way they look at me  I just bottle it up at all times  To be honest I don t talk much at all\n",
      "- Trying to get helpHow do I ask my doctor for help   I want to try to help myself but I ve known my family doctor since I was born  he delivered me  it s almost like telling a family member that I m suicidal and need help Do I just say like hey I think I have depression or something  I don t have the will to live anymore   and what will I tell my parents if I get medication or something  I have to go to my family doctor alone because I know my mom won t believe me and if she does I don t want to see her face when she realizes my situation  If I say I m on anti depressants they will know another part of me that I don t share with anyone  I m scared  They won t understand how hard it is for me to just live  like to wake up  shower  eat  do homework  care about my health  They won t be malicious but I just know they won t understand me\n",
      "- My friends just tried suiciding  What should I do to help her So I was looking at Instagram Stories and I saw her in the hospital wanting someone to talk becouse he was bored  I send her a message to know what did happen to her  and she answered she just had tried to suicide by consuming too much pills  She s only   She has problems with bullying  will repeat this year in school  her father suicided when she was young  She s clearly bad  but I want to help her  We only know that me and her best friend  what should we do\n",
      "\n",
      "\n",
      "Non-Suicidal & Neutral:\n",
      "\n",
      "- And it s time for  Sadness   What a surprise  Listening to sad Green Day songs like Wake Me Ip When September Ends or Ordinary World   I m thinking about my crush a lot and I literally can t think to something else so yeah I m a bit sad\n",
      "- What do you called crocs with socks  I call them cocks\n",
      "- Sup peeps How are y all doing today How will you be doing tomorrow\n",
      "- Saying opinions of a random movie until I get a girlfriend  Day   The LEGO Movie   was just as great as the first one Fun Fact  I first watched it on my Nintendo Switch Holy fuck I ve been at this for a month\n",
      "- Is it just me or Reddit was down Smh\n",
      "- A girl who I knew and talked to a year ago is asking for a dick pic  what do I do It s suspicious because she wants me to do it first\n",
      "- You are being sued because of your username  Why   I m being sued for being fresh   ok\n",
      "- Some British ppl are such unfunny snowflakes Like fr bruh someone will say  Haha British people say Innit haha Then they say  WELL AT LAYST I DIDNT WATCH MY CLARSHMATE GET SHOTE IN MAFS CLASS\n",
      "- I blocked him  Finally  inner peace\n",
      "- Idc if anyone cares but As of   days ago I ve spent   months with my gf  and i couldn t be happier about it Though I suppose if be happier if I could see her during this   month pandemic  and if my parents would even allow me to date her\n"
     ]
    }
   ],
   "source": [
    "# Suicidal & Negative\n",
    "\n",
    "print(\"Suicidal & Negative:\\n\")\n",
    "\n",
    "ag_sample = ag_data[(ag_data['Suicidal_label']==0) & (ag_data['Sentiment_label']==0)].sample(n=10)\n",
    "\n",
    "for index in ag_sample.index:\n",
    "  print(f\"- {ag_sample['Post'][index]}\")\n",
    "\n",
    "\n",
    "\n",
    "# Non-Suicidal & Negative\n",
    "\n",
    "print(\"\\n\\nNon-Suicidal & Negative:\\n\")\n",
    "\n",
    "ag_sample = ag_data[(ag_data['Suicidal_label']==1) & (ag_data['Sentiment_label']==0)].sample(n=10)\n",
    "\n",
    "for index in ag_sample.index:\n",
    "  print(f\"- {ag_sample['Post'][index]}\")\n",
    "\n",
    "\n",
    "\n",
    "# Suicidal & Positive\n",
    "\n",
    "print(\"\\n\\nSuicidal & Positive:\\n\")\n",
    "\n",
    "ag_sample = ag_data[(ag_data['Suicidal_label']==0) & (ag_data['Sentiment_label']==1)].sample(n=10)\n",
    "\n",
    "for index in ag_sample.index:\n",
    "  print(f\"- {ag_sample['Post'][index]}\")\n",
    "\n",
    "\n",
    "\n",
    "# Non-Suicidal & Positive\n",
    "\n",
    "print(\"\\n\\nNon-Suicidal & Positive:\\n\")\n",
    "\n",
    "ag_sample = ag_data[(ag_data['Suicidal_label']==1) & (ag_data['Sentiment_label']==1)].sample(n=10)\n",
    "\n",
    "for index in ag_sample.index:\n",
    "  print(f\"- {ag_sample['Post'][index]}\")\n",
    "\n",
    "\n",
    "\n",
    "# Suicidal & Neutral\n",
    "\n",
    "print(\"\\n\\nSuicidal & Neutral:\\n\")\n",
    "\n",
    "ag_sample = ag_data[(ag_data['Suicidal_label']==0) & (ag_data['Sentiment_label']==2)].sample(n=10)\n",
    "\n",
    "for index in ag_sample.index:\n",
    "  print(f\"- {ag_sample['Post'][index]}\")\n",
    "\n",
    "\n",
    "\n",
    "# Non-Suicidal & Neutral\n",
    "\n",
    "print(\"\\n\\nNon-Suicidal & Neutral:\\n\")\n",
    "\n",
    "ag_sample = ag_data[(ag_data['Suicidal_label']==1) & (ag_data['Sentiment_label']==2)].sample(n=10)\n",
    "\n",
    "for index in ag_sample.index:\n",
    "  print(f\"- {ag_sample['Post'][index]}\")"
   ]
  },
  {
   "cell_type": "markdown",
   "metadata": {
    "id": "87amhetDstG8"
   },
   "source": [
    "### Findings\n",
    "\n",
    "- Based on the above samples, we may conclude that the **Suicidal & Negative** is an absolute sucidal.\n",
    "\n",
    "- Some of the other **Suicidal & Positive** & **Suicidal & Neutral** is not a complete suicidal. But, we may ignore.\n",
    "\n",
    "So, for this dataset we'll use all items with `\"Suicidal_label\" = 0`. It also seems like the \"sentiments\" has very less corelation with suicidality. We can surely ignore it."
   ]
  },
  {
   "cell_type": "markdown",
   "metadata": {
    "id": "Zifwb1mbs1PB"
   },
   "source": [
    "### Primary Cleanup & Save Dataset\n",
    "\n",
    "We'll clean the dataset and finally transform it to support as a training data for **suicidal-electra** model."
   ]
  },
  {
   "cell_type": "code",
   "execution_count": 10,
   "metadata": {
    "colab": {
     "base_uri": "https://localhost:8080/",
     "height": 424
    },
    "id": "tw_rYjPUyhSJ",
    "outputId": "fe3e88aa-328d-4ca8-fc59-fe51fe026160"
   },
   "outputs": [
    {
     "data": {
      "text/html": [
       "<div>\n",
       "<style scoped>\n",
       "    .dataframe tbody tr th:only-of-type {\n",
       "        vertical-align: middle;\n",
       "    }\n",
       "\n",
       "    .dataframe tbody tr th {\n",
       "        vertical-align: top;\n",
       "    }\n",
       "\n",
       "    .dataframe thead th {\n",
       "        text-align: right;\n",
       "    }\n",
       "</style>\n",
       "<table border=\"1\" class=\"dataframe\">\n",
       "  <thead>\n",
       "    <tr style=\"text-align: right;\">\n",
       "      <th></th>\n",
       "      <th>text</th>\n",
       "      <th>class</th>\n",
       "    </tr>\n",
       "  </thead>\n",
       "  <tbody>\n",
       "    <tr>\n",
       "      <th>0</th>\n",
       "      <td>Ex Wife Threatening SuicideRecently I left my ...</td>\n",
       "      <td>1</td>\n",
       "    </tr>\n",
       "    <tr>\n",
       "      <th>1</th>\n",
       "      <td>Am I weird I don t get affected by compliments...</td>\n",
       "      <td>0</td>\n",
       "    </tr>\n",
       "    <tr>\n",
       "      <th>2</th>\n",
       "      <td>Finally   is almost over  So I can never hear ...</td>\n",
       "      <td>0</td>\n",
       "    </tr>\n",
       "    <tr>\n",
       "      <th>3</th>\n",
       "      <td>i need helpjust help me im crying so hard</td>\n",
       "      <td>1</td>\n",
       "    </tr>\n",
       "    <tr>\n",
       "      <th>4</th>\n",
       "      <td>I m so lostHello  my name is Adam   and I ve b...</td>\n",
       "      <td>1</td>\n",
       "    </tr>\n",
       "    <tr>\n",
       "      <th>...</th>\n",
       "      <td>...</td>\n",
       "      <td>...</td>\n",
       "    </tr>\n",
       "    <tr>\n",
       "      <th>226948</th>\n",
       "      <td>I sound like a dudebro but I can t handle my f...</td>\n",
       "      <td>1</td>\n",
       "    </tr>\n",
       "    <tr>\n",
       "      <th>226949</th>\n",
       "      <td>Fuck my sister She is such I fucking bitch and...</td>\n",
       "      <td>0</td>\n",
       "    </tr>\n",
       "    <tr>\n",
       "      <th>226950</th>\n",
       "      <td>I ve been suicidal for years and no one knowsT...</td>\n",
       "      <td>1</td>\n",
       "    </tr>\n",
       "    <tr>\n",
       "      <th>226951</th>\n",
       "      <td>My boyfriend is sick so I took some Polaroids ...</td>\n",
       "      <td>0</td>\n",
       "    </tr>\n",
       "    <tr>\n",
       "      <th>226952</th>\n",
       "      <td>What would happen to my dog  M What would happ...</td>\n",
       "      <td>1</td>\n",
       "    </tr>\n",
       "  </tbody>\n",
       "</table>\n",
       "<p>226953 rows × 2 columns</p>\n",
       "</div>"
      ],
      "text/plain": [
       "                                                     text  class\n",
       "0       Ex Wife Threatening SuicideRecently I left my ...      1\n",
       "1       Am I weird I don t get affected by compliments...      0\n",
       "2       Finally   is almost over  So I can never hear ...      0\n",
       "3               i need helpjust help me im crying so hard      1\n",
       "4       I m so lostHello  my name is Adam   and I ve b...      1\n",
       "...                                                   ...    ...\n",
       "226948  I sound like a dudebro but I can t handle my f...      1\n",
       "226949  Fuck my sister She is such I fucking bitch and...      0\n",
       "226950  I ve been suicidal for years and no one knowsT...      1\n",
       "226951  My boyfriend is sick so I took some Polaroids ...      0\n",
       "226952  What would happen to my dog  M What would happ...      1\n",
       "\n",
       "[226953 rows x 2 columns]"
      ]
     },
     "execution_count": 10,
     "metadata": {},
     "output_type": "execute_result"
    }
   ],
   "source": [
    "ag_export = ag_data[['Post', 'Suicidal_label']].copy()\n",
    "ag_export = ag_export.rename(columns={\"Post\": \"text\", \"Suicidal_label\": \"class\"})\n",
    "\n",
    "ag_export['class'] = ag_export['class'].map(lambda label: LABEL_SUICIDAL if (label == 0) else LABEL_NON_SUICIDAL)\n",
    "\n",
    "ag_export.to_csv(AG_DATASET_EXPORT_PATH, index=False)\n",
    "\n",
    "ag_export"
   ]
  },
  {
   "cell_type": "markdown",
   "metadata": {
    "id": "8-hK7bv9QhzH"
   },
   "source": [
    "## Data Source: imeshsonu\n",
    "\n",
    "https://www.kaggle.com/datasets/imeshsonu/suicideal-phrases"
   ]
  },
  {
   "cell_type": "markdown",
   "metadata": {
    "id": "EeVg7b3FRjSB"
   },
   "source": [
    "### Pull Data"
   ]
  },
  {
   "cell_type": "code",
   "execution_count": 11,
   "metadata": {
    "colab": {
     "base_uri": "https://localhost:8080/",
     "height": 442
    },
    "id": "RN8ZHN39QO__",
    "outputId": "2e1d380d-9b3a-432c-ac41-d1cf5aaee493"
   },
   "outputs": [
    {
     "name": "stdout",
     "output_type": "stream",
     "text": [
      "Skipping, found downloaded files in \"./datasets/downloads/suicideal-phrases\" (use force=True to force download)\n"
     ]
    },
    {
     "data": {
      "text/html": [
       "<div>\n",
       "<style scoped>\n",
       "    .dataframe tbody tr th:only-of-type {\n",
       "        vertical-align: middle;\n",
       "    }\n",
       "\n",
       "    .dataframe tbody tr th {\n",
       "        vertical-align: top;\n",
       "    }\n",
       "\n",
       "    .dataframe thead th {\n",
       "        text-align: right;\n",
       "    }\n",
       "</style>\n",
       "<table border=\"1\" class=\"dataframe\">\n",
       "  <thead>\n",
       "    <tr style=\"text-align: right;\">\n",
       "      <th></th>\n",
       "      <th>Tweet</th>\n",
       "      <th>Suicide</th>\n",
       "    </tr>\n",
       "  </thead>\n",
       "  <tbody>\n",
       "    <tr>\n",
       "      <th>0</th>\n",
       "      <td>i hate myself so much i want to KILL myself ho...</td>\n",
       "      <td>Potential Suicide post</td>\n",
       "    </tr>\n",
       "    <tr>\n",
       "      <th>1</th>\n",
       "      <td>RT @DrugForumsBest: I woke up with a bag over ...</td>\n",
       "      <td>Potential Suicide post</td>\n",
       "    </tr>\n",
       "    <tr>\n",
       "      <th>2</th>\n",
       "      <td>i wanna fucking kill myself</td>\n",
       "      <td>Potential Suicide post</td>\n",
       "    </tr>\n",
       "    <tr>\n",
       "      <th>3</th>\n",
       "      <td>why do i destroy all my opportunities? am i go...</td>\n",
       "      <td>Potential Suicide post</td>\n",
       "    </tr>\n",
       "    <tr>\n",
       "      <th>4</th>\n",
       "      <td>u - understand what the fuck im doing wrong wi...</td>\n",
       "      <td>Potential Suicide post</td>\n",
       "    </tr>\n",
       "    <tr>\n",
       "      <th>...</th>\n",
       "      <td>...</td>\n",
       "      <td>...</td>\n",
       "    </tr>\n",
       "    <tr>\n",
       "      <th>1594</th>\n",
       "      <td>hi! just joined and i think it's brill! haha s...</td>\n",
       "      <td>Not Suicide post</td>\n",
       "    </tr>\n",
       "    <tr>\n",
       "      <th>1595</th>\n",
       "      <td>@WilliamSledd Love the videos William New to t...</td>\n",
       "      <td>Not Suicide post</td>\n",
       "    </tr>\n",
       "    <tr>\n",
       "      <th>1596</th>\n",
       "      <td>@itsanimesh I got an Openmoko FreeRunner and n...</td>\n",
       "      <td>Not Suicide post</td>\n",
       "    </tr>\n",
       "    <tr>\n",
       "      <th>1597</th>\n",
       "      <td>@PeoplemapsJulie I am looking for the berocca ...</td>\n",
       "      <td>Not Suicide post</td>\n",
       "    </tr>\n",
       "    <tr>\n",
       "      <th>1598</th>\n",
       "      <td>@mcherrywv pleasant is right thank u V8 ppl, u...</td>\n",
       "      <td>Not Suicide post</td>\n",
       "    </tr>\n",
       "  </tbody>\n",
       "</table>\n",
       "<p>1599 rows × 2 columns</p>\n",
       "</div>"
      ],
      "text/plain": [
       "                                                  Tweet  \\\n",
       "0     i hate myself so much i want to KILL myself ho...   \n",
       "1     RT @DrugForumsBest: I woke up with a bag over ...   \n",
       "2                           i wanna fucking kill myself   \n",
       "3     why do i destroy all my opportunities? am i go...   \n",
       "4     u - understand what the fuck im doing wrong wi...   \n",
       "...                                                 ...   \n",
       "1594  hi! just joined and i think it's brill! haha s...   \n",
       "1595  @WilliamSledd Love the videos William New to t...   \n",
       "1596  @itsanimesh I got an Openmoko FreeRunner and n...   \n",
       "1597  @PeoplemapsJulie I am looking for the berocca ...   \n",
       "1598  @mcherrywv pleasant is right thank u V8 ppl, u...   \n",
       "\n",
       "                      Suicide  \n",
       "0     Potential Suicide post   \n",
       "1     Potential Suicide post   \n",
       "2     Potential Suicide post   \n",
       "3     Potential Suicide post   \n",
       "4     Potential Suicide post   \n",
       "...                       ...  \n",
       "1594         Not Suicide post  \n",
       "1595         Not Suicide post  \n",
       "1596         Not Suicide post  \n",
       "1597         Not Suicide post  \n",
       "1598         Not Suicide post  \n",
       "\n",
       "[1599 rows x 2 columns]"
      ]
     },
     "execution_count": 11,
     "metadata": {},
     "output_type": "execute_result"
    }
   ],
   "source": [
    "od.download(IMS_DATASET_URL, DATASETS_DOWNLOAD_PATH)\n",
    "ims_data = pd.read_csv(f'{DATASETS_DOWNLOAD_PATH}/suicideal-phrases/Train_suicide1.csv')\n",
    "ims_data"
   ]
  },
  {
   "cell_type": "markdown",
   "metadata": {
    "id": "9_zzARJYUtsZ"
   },
   "source": [
    "### Analyze data based on the labels"
   ]
  },
  {
   "cell_type": "code",
   "execution_count": 12,
   "metadata": {
    "colab": {
     "base_uri": "https://localhost:8080/",
     "height": 1000
    },
    "id": "jHAlV1iFU1ib",
    "outputId": "daebb2f7-c3ca-4bab-cc8f-a29622af5876",
    "scrolled": true
   },
   "outputs": [
    {
     "name": "stdout",
     "output_type": "stream",
     "text": [
      "LABEL: Potential Suicide post \n",
      "--------------------------------\n",
      "- @Oomongoomong,,This is for u, the person who feels like they have no one, the person who doesnt see why they should be here anymore\n",
      "- Sex dreams are my least favorite dreams. Like they're always weird and appear out of nowhere and then you think its… https://t.co/1fdKAwFjwE\n",
      "- @_creamqueen Lady, I’m on the hill ready to fucking just die already.\n",
      "- @AnitaHarrell19 @PeterParros I agree with everything except Benny. I'm tired of him. His character is boring and needs to die. IJS 😊\n",
      "- Please retweet my Weed G. Board!!! The coolest adult cartoon.  I'm tired of living the worst times of my life, plea… https://t.co/jxWJLxgT9x\n",
      "- I hope God takes me soon. I legit am tired of living and really just wanna die. I feel like crying for everything l… https://t.co/hmnfAKgolY\n",
      "- Don’t break other people down just because they may seem “weaker” than you. If someone’s eyes are 20/20 that doesn’… https://t.co/DHtb9JZKxE\n",
      "- i wanna fucking kill myself\n",
      "- RT @tamicakeyona: Being a single mommy was never part of the plan but I wake up everyday and do my shit💪🏾\n",
      "- @aT_TooL,Woke ,RT @NFear: Life is hard. I never thought I’d come onto social media to vent/talk about my feelings. But man my life sucks. I dont want atte…\n",
      "\n",
      "LABEL: Not Suicide post\n",
      "--------------------------------\n",
      "- @aaronspears She's soo cute Good luck with the museum thing... lol\n",
      "- My Cowley Road E.P. has been re-released on itunes! If you don't have it, get it!\n",
      "- @madhoward... I'm almost caught up on HIMYM! I watched 3-4 episodes with @calamus last night! SSSSOOOO GOOD!\n",
      "- @sputnick42 welcome &amp; good to see you!\n",
      "- RT @BigDaddyJ_WWR: Congratulations on your #WWE Championship win #DanielBryan and the heel turn but you’re going to need more than luck for…\n",
      "- My workplace gets so much better when good weather strikes. http://tinyurl.com/cp7n6w\n",
      "- sitting in the sun, baking in 30 degrees - wonderful\n",
      "- arreeyy.. mad - o - wat..i'm wit u.. coz maine bhi.. intro hi start kiya\n",
      "- @seerysm i'm always cheerful when it's sunny at ATL, means I'll get the heck away on time\n",
      "- @joemcintyre WELCOME TWEET&lt;3 LETS GET THIS!!!!!!!!!!!!\n",
      "\n"
     ]
    },
    {
     "data": {
      "text/html": [
       "<div>\n",
       "<style scoped>\n",
       "    .dataframe tbody tr th:only-of-type {\n",
       "        vertical-align: middle;\n",
       "    }\n",
       "\n",
       "    .dataframe tbody tr th {\n",
       "        vertical-align: top;\n",
       "    }\n",
       "\n",
       "    .dataframe thead th {\n",
       "        text-align: right;\n",
       "    }\n",
       "</style>\n",
       "<table border=\"1\" class=\"dataframe\">\n",
       "  <thead>\n",
       "    <tr style=\"text-align: right;\">\n",
       "      <th></th>\n",
       "      <th>Tweet</th>\n",
       "      <th>Suicide</th>\n",
       "    </tr>\n",
       "  </thead>\n",
       "  <tbody>\n",
       "    <tr>\n",
       "      <th>0</th>\n",
       "      <td>i hate myself so much i want to KILL myself ho...</td>\n",
       "      <td>Potential Suicide post</td>\n",
       "    </tr>\n",
       "    <tr>\n",
       "      <th>1</th>\n",
       "      <td>RT @DrugForumsBest: I woke up with a bag over ...</td>\n",
       "      <td>Potential Suicide post</td>\n",
       "    </tr>\n",
       "    <tr>\n",
       "      <th>2</th>\n",
       "      <td>i wanna fucking kill myself</td>\n",
       "      <td>Potential Suicide post</td>\n",
       "    </tr>\n",
       "    <tr>\n",
       "      <th>3</th>\n",
       "      <td>why do i destroy all my opportunities? am i go...</td>\n",
       "      <td>Potential Suicide post</td>\n",
       "    </tr>\n",
       "    <tr>\n",
       "      <th>4</th>\n",
       "      <td>u - understand what the fuck im doing wrong wi...</td>\n",
       "      <td>Potential Suicide post</td>\n",
       "    </tr>\n",
       "    <tr>\n",
       "      <th>...</th>\n",
       "      <td>...</td>\n",
       "      <td>...</td>\n",
       "    </tr>\n",
       "    <tr>\n",
       "      <th>1594</th>\n",
       "      <td>hi! just joined and i think it's brill! haha s...</td>\n",
       "      <td>Not Suicide post</td>\n",
       "    </tr>\n",
       "    <tr>\n",
       "      <th>1595</th>\n",
       "      <td>@WilliamSledd Love the videos William New to t...</td>\n",
       "      <td>Not Suicide post</td>\n",
       "    </tr>\n",
       "    <tr>\n",
       "      <th>1596</th>\n",
       "      <td>@itsanimesh I got an Openmoko FreeRunner and n...</td>\n",
       "      <td>Not Suicide post</td>\n",
       "    </tr>\n",
       "    <tr>\n",
       "      <th>1597</th>\n",
       "      <td>@PeoplemapsJulie I am looking for the berocca ...</td>\n",
       "      <td>Not Suicide post</td>\n",
       "    </tr>\n",
       "    <tr>\n",
       "      <th>1598</th>\n",
       "      <td>@mcherrywv pleasant is right thank u V8 ppl, u...</td>\n",
       "      <td>Not Suicide post</td>\n",
       "    </tr>\n",
       "  </tbody>\n",
       "</table>\n",
       "<p>1599 rows × 2 columns</p>\n",
       "</div>"
      ],
      "text/plain": [
       "                                                  Tweet  \\\n",
       "0     i hate myself so much i want to KILL myself ho...   \n",
       "1     RT @DrugForumsBest: I woke up with a bag over ...   \n",
       "2                           i wanna fucking kill myself   \n",
       "3     why do i destroy all my opportunities? am i go...   \n",
       "4     u - understand what the fuck im doing wrong wi...   \n",
       "...                                                 ...   \n",
       "1594  hi! just joined and i think it's brill! haha s...   \n",
       "1595  @WilliamSledd Love the videos William New to t...   \n",
       "1596  @itsanimesh I got an Openmoko FreeRunner and n...   \n",
       "1597  @PeoplemapsJulie I am looking for the berocca ...   \n",
       "1598  @mcherrywv pleasant is right thank u V8 ppl, u...   \n",
       "\n",
       "                      Suicide  \n",
       "0     Potential Suicide post   \n",
       "1     Potential Suicide post   \n",
       "2     Potential Suicide post   \n",
       "3     Potential Suicide post   \n",
       "4     Potential Suicide post   \n",
       "...                       ...  \n",
       "1594         Not Suicide post  \n",
       "1595         Not Suicide post  \n",
       "1596         Not Suicide post  \n",
       "1597         Not Suicide post  \n",
       "1598         Not Suicide post  \n",
       "\n",
       "[1599 rows x 2 columns]"
      ]
     },
     "execution_count": 12,
     "metadata": {},
     "output_type": "execute_result"
    }
   ],
   "source": [
    "ims_posts = ims_data.copy(deep=True)\n",
    "\n",
    "ims_labels = ims_posts['Suicide'].unique()\n",
    "\n",
    "for label in ims_labels:\n",
    "  items = ims_posts[ims_posts['Suicide']==label]\n",
    "  \n",
    "  items = items.sample(n = 10)\n",
    "  items = items.dropna()\n",
    "\n",
    "  print(f'LABEL: {label}\\n--------------------------------')\n",
    "  for index in items.index:\n",
    "    print(f\"- {items['Tweet'][index]}\")\n",
    "    \n",
    "  print()\n",
    "\n",
    "ims_posts"
   ]
  },
  {
   "cell_type": "markdown",
   "metadata": {
    "id": "ZVPPb57OkCSV"
   },
   "source": [
    "### Findings\n",
    "\n",
    "- Based on the above samples, we may conclude that the \"Potential Suicide post\" label clearly gives an indication of suicidality.\n",
    "- Also, it looks like the \"Not Suicide post\" label is not suicidal.\n",
    "\n",
    "So, for this dataset, we'll use both \"Attempt\" & \"Ideation\" as suicidal. And the rest are nonsuicidal."
   ]
  },
  {
   "cell_type": "markdown",
   "metadata": {
    "id": "-Ri5ZYMulLBh"
   },
   "source": [
    "### Primary Cleanup & Save Dataset\n",
    "\n",
    "We'll clean the dataset and finally transform it to support as a training data for **suicidal-electra** model."
   ]
  },
  {
   "cell_type": "code",
   "execution_count": 13,
   "metadata": {
    "colab": {
     "base_uri": "https://localhost:8080/",
     "height": 424
    },
    "id": "wuSgcp7plgwx",
    "outputId": "a204a398-a304-477f-db94-8eab12146a07"
   },
   "outputs": [
    {
     "data": {
      "text/html": [
       "<div>\n",
       "<style scoped>\n",
       "    .dataframe tbody tr th:only-of-type {\n",
       "        vertical-align: middle;\n",
       "    }\n",
       "\n",
       "    .dataframe tbody tr th {\n",
       "        vertical-align: top;\n",
       "    }\n",
       "\n",
       "    .dataframe thead th {\n",
       "        text-align: right;\n",
       "    }\n",
       "</style>\n",
       "<table border=\"1\" class=\"dataframe\">\n",
       "  <thead>\n",
       "    <tr style=\"text-align: right;\">\n",
       "      <th></th>\n",
       "      <th>text</th>\n",
       "      <th>class</th>\n",
       "    </tr>\n",
       "  </thead>\n",
       "  <tbody>\n",
       "    <tr>\n",
       "      <th>0</th>\n",
       "      <td>i hate myself so much i want to KILL myself ho...</td>\n",
       "      <td>1</td>\n",
       "    </tr>\n",
       "    <tr>\n",
       "      <th>1</th>\n",
       "      <td>RT @DrugForumsBest: I woke up with a bag over ...</td>\n",
       "      <td>1</td>\n",
       "    </tr>\n",
       "    <tr>\n",
       "      <th>2</th>\n",
       "      <td>i wanna fucking kill myself</td>\n",
       "      <td>1</td>\n",
       "    </tr>\n",
       "    <tr>\n",
       "      <th>3</th>\n",
       "      <td>why do i destroy all my opportunities? am i go...</td>\n",
       "      <td>1</td>\n",
       "    </tr>\n",
       "    <tr>\n",
       "      <th>4</th>\n",
       "      <td>u - understand what the fuck im doing wrong wi...</td>\n",
       "      <td>1</td>\n",
       "    </tr>\n",
       "    <tr>\n",
       "      <th>...</th>\n",
       "      <td>...</td>\n",
       "      <td>...</td>\n",
       "    </tr>\n",
       "    <tr>\n",
       "      <th>1594</th>\n",
       "      <td>hi! just joined and i think it's brill! haha s...</td>\n",
       "      <td>0</td>\n",
       "    </tr>\n",
       "    <tr>\n",
       "      <th>1595</th>\n",
       "      <td>@WilliamSledd Love the videos William New to t...</td>\n",
       "      <td>0</td>\n",
       "    </tr>\n",
       "    <tr>\n",
       "      <th>1596</th>\n",
       "      <td>@itsanimesh I got an Openmoko FreeRunner and n...</td>\n",
       "      <td>0</td>\n",
       "    </tr>\n",
       "    <tr>\n",
       "      <th>1597</th>\n",
       "      <td>@PeoplemapsJulie I am looking for the berocca ...</td>\n",
       "      <td>0</td>\n",
       "    </tr>\n",
       "    <tr>\n",
       "      <th>1598</th>\n",
       "      <td>@mcherrywv pleasant is right thank u V8 ppl, u...</td>\n",
       "      <td>0</td>\n",
       "    </tr>\n",
       "  </tbody>\n",
       "</table>\n",
       "<p>1599 rows × 2 columns</p>\n",
       "</div>"
      ],
      "text/plain": [
       "                                                   text  class\n",
       "0     i hate myself so much i want to KILL myself ho...      1\n",
       "1     RT @DrugForumsBest: I woke up with a bag over ...      1\n",
       "2                           i wanna fucking kill myself      1\n",
       "3     why do i destroy all my opportunities? am i go...      1\n",
       "4     u - understand what the fuck im doing wrong wi...      1\n",
       "...                                                 ...    ...\n",
       "1594  hi! just joined and i think it's brill! haha s...      0\n",
       "1595  @WilliamSledd Love the videos William New to t...      0\n",
       "1596  @itsanimesh I got an Openmoko FreeRunner and n...      0\n",
       "1597  @PeoplemapsJulie I am looking for the berocca ...      0\n",
       "1598  @mcherrywv pleasant is right thank u V8 ppl, u...      0\n",
       "\n",
       "[1599 rows x 2 columns]"
      ]
     },
     "execution_count": 13,
     "metadata": {},
     "output_type": "execute_result"
    }
   ],
   "source": [
    "ims_export = ims_posts[['Tweet', 'Suicide']].copy()\n",
    "\n",
    "ims_export['Suicide'] = ims_export['Suicide'].map(lambda label: LABEL_SUICIDAL if (label == 'Potential Suicide post ') else LABEL_NON_SUICIDAL)\n",
    "\n",
    "ims_export = ims_export.rename(columns={\"Tweet\": \"text\", \"Suicide\": \"class\"})\n",
    "\n",
    "ims_export.to_csv(IMS_DATASET_EXPORT_PATH, index=False)\n",
    "ims_export"
   ]
  },
  {
   "cell_type": "markdown",
   "metadata": {
    "id": "8-hK7bv9QhzH"
   },
   "source": [
    "## Data Source: laxmimerit\n",
    "\n",
    "https://raw.githubusercontent.com/laxmimerit/twitter-suicidal-intention-dataset/master/twitter-suicidal_data.csv"
   ]
  },
  {
   "cell_type": "markdown",
   "metadata": {
    "id": "EeVg7b3FRjSB"
   },
   "source": [
    "### Pull Data"
   ]
  },
  {
   "cell_type": "code",
   "execution_count": 14,
   "metadata": {
    "colab": {
     "base_uri": "https://localhost:8080/",
     "height": 442
    },
    "id": "RN8ZHN39QO__",
    "outputId": "2e1d380d-9b3a-432c-ac41-d1cf5aaee493"
   },
   "outputs": [
    {
     "name": "stdout",
     "output_type": "stream",
     "text": [
      "Using downloaded and verified file: ./datasets/downloads/twitter-suicidal_data.csv\n"
     ]
    },
    {
     "data": {
      "text/html": [
       "<div>\n",
       "<style scoped>\n",
       "    .dataframe tbody tr th:only-of-type {\n",
       "        vertical-align: middle;\n",
       "    }\n",
       "\n",
       "    .dataframe tbody tr th {\n",
       "        vertical-align: top;\n",
       "    }\n",
       "\n",
       "    .dataframe thead th {\n",
       "        text-align: right;\n",
       "    }\n",
       "</style>\n",
       "<table border=\"1\" class=\"dataframe\">\n",
       "  <thead>\n",
       "    <tr style=\"text-align: right;\">\n",
       "      <th></th>\n",
       "      <th>tweet</th>\n",
       "      <th>intention</th>\n",
       "      <th>len</th>\n",
       "    </tr>\n",
       "  </thead>\n",
       "  <tbody>\n",
       "    <tr>\n",
       "      <th>0</th>\n",
       "      <td>my diary log as of so far okay my first time w...</td>\n",
       "      <td>1</td>\n",
       "      <td>24038</td>\n",
       "    </tr>\n",
       "    <tr>\n",
       "      <th>1</th>\n",
       "      <td>i hate my life and wish i wasnt me very long p...</td>\n",
       "      <td>1</td>\n",
       "      <td>15726</td>\n",
       "    </tr>\n",
       "    <tr>\n",
       "      <th>2</th>\n",
       "      <td>my life so far i cant reach out to anyone soi ...</td>\n",
       "      <td>1</td>\n",
       "      <td>14960</td>\n",
       "    </tr>\n",
       "    <tr>\n",
       "      <th>3</th>\n",
       "      <td>tears in the shadow pt1 i figured out that i n...</td>\n",
       "      <td>1</td>\n",
       "      <td>12581</td>\n",
       "    </tr>\n",
       "    <tr>\n",
       "      <th>4</th>\n",
       "      <td>why i have depression and what it makes me fee...</td>\n",
       "      <td>1</td>\n",
       "      <td>9396</td>\n",
       "    </tr>\n",
       "    <tr>\n",
       "      <th>...</th>\n",
       "      <td>...</td>\n",
       "      <td>...</td>\n",
       "      <td>...</td>\n",
       "    </tr>\n",
       "    <tr>\n",
       "      <th>9114</th>\n",
       "      <td></td>\n",
       "      <td>0</td>\n",
       "      <td>1</td>\n",
       "    </tr>\n",
       "    <tr>\n",
       "      <th>9115</th>\n",
       "      <td>l</td>\n",
       "      <td>0</td>\n",
       "      <td>1</td>\n",
       "    </tr>\n",
       "    <tr>\n",
       "      <th>9116</th>\n",
       "      <td></td>\n",
       "      <td>0</td>\n",
       "      <td>1</td>\n",
       "    </tr>\n",
       "    <tr>\n",
       "      <th>9117</th>\n",
       "      <td></td>\n",
       "      <td>0</td>\n",
       "      <td>1</td>\n",
       "    </tr>\n",
       "    <tr>\n",
       "      <th>9118</th>\n",
       "      <td></td>\n",
       "      <td>0</td>\n",
       "      <td>1</td>\n",
       "    </tr>\n",
       "  </tbody>\n",
       "</table>\n",
       "<p>9119 rows × 3 columns</p>\n",
       "</div>"
      ],
      "text/plain": [
       "                                                  tweet  intention    len\n",
       "0     my diary log as of so far okay my first time w...          1  24038\n",
       "1     i hate my life and wish i wasnt me very long p...          1  15726\n",
       "2     my life so far i cant reach out to anyone soi ...          1  14960\n",
       "3     tears in the shadow pt1 i figured out that i n...          1  12581\n",
       "4     why i have depression and what it makes me fee...          1   9396\n",
       "...                                                 ...        ...    ...\n",
       "9114                                                             0      1\n",
       "9115                                                  l          0      1\n",
       "9116                                                             0      1\n",
       "9117                                                             0      1\n",
       "9118                                                             0      1\n",
       "\n",
       "[9119 rows x 3 columns]"
      ]
     },
     "execution_count": 14,
     "metadata": {},
     "output_type": "execute_result"
    }
   ],
   "source": [
    "od.download(LAX_DATASET_URL, DATASETS_DOWNLOAD_PATH)\n",
    "lax_data = pd.read_csv(f'{DATASETS_DOWNLOAD_PATH}/twitter-suicidal_data.csv')\n",
    "lax_data"
   ]
  },
  {
   "cell_type": "markdown",
   "metadata": {
    "id": "9_zzARJYUtsZ"
   },
   "source": [
    "### Analyze data based on the labels"
   ]
  },
  {
   "cell_type": "code",
   "execution_count": 15,
   "metadata": {
    "colab": {
     "base_uri": "https://localhost:8080/",
     "height": 1000
    },
    "id": "jHAlV1iFU1ib",
    "outputId": "daebb2f7-c3ca-4bab-cc8f-a29622af5876"
   },
   "outputs": [
    {
     "name": "stdout",
     "output_type": "stream",
     "text": [
      "LABEL: 1\n",
      "--------------------------------\n",
      "- i turned 18 this week i dont have any dreams or goals and waking up is just painfuli am not sayingi ama special snowflake because i know most of you on this sub go through worse stuff than me i know nobody asked for this so i dont really want to be a whiny brat but ive honestly had enoughi ama shitty person i dont reply to messages from people who are still actually trying to talk to me because it all seems pointless to me i leave my bed only if its absolutely necessary and i hate spending time with others no matter how important those people are to me i used to love art but i cant bring myself to create things anymore at the beginning of summer break i was likei am going to draw every single day for the following two months so i can form a habit id like to maintain and work hard on becoming an artist well guess what summer breaks ending today and i only sketched once and it ended up being a piece of garbage i realized if i actually wanted to be an artist id be passionate and wouldnt know how to live without constantly making art and thats the exact opposite of me i usually ended up hating my artwork anyways so i think there are people much more determined to become artists and they sure as hell deserve it more than someone like myselfi amjust pretty much numb most of the time but whenever a tiny inconvenience creeps into my life my brain instantly goes to suicidal mode crippling anxiety takes over me and my life goes from 0 to 10 the only thing i can think about is death i use it as a coping mechanism nothing i do matters because we will all die anyways to make my anxiety less extreme but its not very healthy since i start planning my own suicidei amchanging schools and i will be in a completely new environment which makes things even worse because i cant stop imagining the worst scenarios basically right now the best option i have is hanging myself i messed up everything in my life i failed my driving exam on my birthday i couldnt take the pressure at my previous school and i cant keep making art i honestly dont have any dreams or a future the only thing i genuinely want is peaceplease do not suggest therapymedication i cant get any professional help right now\n",
      "- ama waste of a human i like to think that i have the most accurate evaluation of myself wheni amdrunk these days the only way i can feel emotion is wheni amdrunk this is due to my need to supress all emotion normally i know its not a good idea to drink while in this state but i need to keep up normality in front of people by drinking socially i dont want them knowingi amsuicidalanywayi amgenuinely a terrible waste of time i believe that i mean nothing to nobody which i know sounds a bit needy and pathetic which it is this is one of the reasons why i hate myselfi amgenerally a closed person which again i know this is unhelpful and not a good thing to be howeveri am in the belief that if i expose myself i will face rejection and being a burden to people better to keep myself to myselfi really need to die not only am i a faggoti amalso a lonely piece of shit hell the dog doesnt even give a shit i would keep faith if i thought the personality underneath all this self hatred was worth anything turns outi amjust a piece of shit to my core hopefully soon i will be able to brutally mutilate myself drink myself to death or down bleach soon make the world a better place my mother didnt give birth so that my shitty ass could come out\n",
      "- i dont know anymore these 4 words make my life a living hell no matter who i say it to in the sudden absence of happiness i know only sadness i have nothing to look forward to because i have fucked my chances up at even having something decent no job no girlfriend and absolutely nothing to motivate me at this point i dont even know why i am still alive it pains me that i am alive\n",
      "- texted the crisis line big mess after i am new here and read another archived post similar to this one i am just so sick about this i texted a crisis line when i was feeling really down and depressed a bit suicidal but stated that i didnt intend to kill myself nor did i have any method of which to do it the person responding was really rude and i got annoyed told her she was not helpful then deleted the conversation and went to bed about an hour later 4 police officers showed up at my house searched my house for weapons which they obviously didnt find woke my family up and made me go to the hospital where they took all my stuff my bag and tried to commit me but i refused i feel 1000 times worse than before i made the text i am a mom and they dragged my child out of bed during the whole thing i am so freaked out now having police with guns in my house too i dont even want to leave the house now i am so stunned by the whole thing\n",
      "- running out of ideas i feel like my entire life has just been distractions and procrastinating until one day i will run out of ways to put off suicidei amsick of saying i will just wait one more day i dont want to try anymorei am so exhausted i cant remember a time before i was depressed there has always been something wrong with me i wish i could rely on someone else for a few moments but i am too much of a burden to carry i ruin everything i touch and have no future i cant keep doing this \n",
      "- i wish i had jumped 133 days ago when i had the strength yes ive been keeping count it was may 7th 2017 that i decided that i was nothing more than a hazard to society and that i was gonna end my life by jumping off the bridge near my house but my friends called the police 7 days later i was out of the psych ward the bridge is always still there but on that day i couldnt fear death less now not so much typical cowardic if anything i should go jump to save what little honor i have left \n",
      "- i dont have a reason to wake up every morning i dont like my looks i dont like my life i screwed up my studies and cant do anything about it i have no interests or hobbiesi just dont have a reason to wake up in the morning and i dont think i will have one in yearsim not going to kill myself my mother made me promise her i would never do it not while she is alive at least and i amkeeping my promise but i hate my life right nowi just dont know how to fix it and i dont see the problem fixing itself soon like it usually happens i dont know what to do since this had never happenedi just need some help going through the worst years of my lifethis is too much man\n",
      "- i feel like shit ive exhausted all of my friends with my constant problems and i cant feel anything without cutting i just feel like dying\n",
      "- suicidal ideation this is not what i thought my life would be i had a full on suicidal breakdown two days ago and instead of killing myself i called a friend for help it was the worst decision ever and i honestly still want to die i honestly dont know what to do anymore\n",
      "- i just dont know anymore i hate myself and everything about life everything has gone wrong today just little things petty things all built up i am 21 i have a girlfriend and i am not happy with my life in fact i havent been happy for many years i am fed up i am over it i am sick of my life being this way but i am mostly sick of the fact that theres nothing wrong with me i have no reason to feel worthless stupid pointless hollow i have nothing to back up my feelings\n",
      "\n",
      "LABEL: 0\n",
      "--------------------------------\n",
      "- i hate reveluvs i hate them so much when i see them i just want to die i feel my blood boiling and my skin burning and my eyes watering my heart drops and i feel like fire is consuming my entire body why are they so evil and cruel i hate them \n",
      "- i dont want to die\n",
      "-  what colour btw i forgot to bring my banner to amsterdam \n",
      "-  yeah i get that at fred s too man i wish i woulda known or i would ve went after work i m in jammies now \n",
      "-  doesn t it just make you feel all sparkly though i miss having a tan \n",
      "- i really hope he forgives me and doesn t take it personally i m just a major hypochondriac and have brothers and if i ever gave them the virus i wouldn t know how to live with myself i would legitimately kill myself because i could never forgive myself \n",
      "- i feel you i enjoy the people this game brings around a lot and i enjoy playing it with them but having to play online with bad connections and other bs just kills me i need to figure out how to deal with the bs and stop beating myself up over it \n",
      "- yes yes oh my god yes please i want to die the lag hurts me internally\n",
      "-  gutted that preston won 6nil looks like cardiff s playoff hopes are not too good either i m sorry for swansea amp cardiff \n",
      "-  same throbbing headache means i don t think i can make ulduar tonight hugs\n",
      "\n"
     ]
    },
    {
     "data": {
      "text/html": [
       "<div>\n",
       "<style scoped>\n",
       "    .dataframe tbody tr th:only-of-type {\n",
       "        vertical-align: middle;\n",
       "    }\n",
       "\n",
       "    .dataframe tbody tr th {\n",
       "        vertical-align: top;\n",
       "    }\n",
       "\n",
       "    .dataframe thead th {\n",
       "        text-align: right;\n",
       "    }\n",
       "</style>\n",
       "<table border=\"1\" class=\"dataframe\">\n",
       "  <thead>\n",
       "    <tr style=\"text-align: right;\">\n",
       "      <th></th>\n",
       "      <th>tweet</th>\n",
       "      <th>intention</th>\n",
       "      <th>len</th>\n",
       "    </tr>\n",
       "  </thead>\n",
       "  <tbody>\n",
       "    <tr>\n",
       "      <th>0</th>\n",
       "      <td>my diary log as of so far okay my first time w...</td>\n",
       "      <td>1</td>\n",
       "      <td>24038</td>\n",
       "    </tr>\n",
       "    <tr>\n",
       "      <th>1</th>\n",
       "      <td>i hate my life and wish i wasnt me very long p...</td>\n",
       "      <td>1</td>\n",
       "      <td>15726</td>\n",
       "    </tr>\n",
       "    <tr>\n",
       "      <th>2</th>\n",
       "      <td>my life so far i cant reach out to anyone soi ...</td>\n",
       "      <td>1</td>\n",
       "      <td>14960</td>\n",
       "    </tr>\n",
       "    <tr>\n",
       "      <th>3</th>\n",
       "      <td>tears in the shadow pt1 i figured out that i n...</td>\n",
       "      <td>1</td>\n",
       "      <td>12581</td>\n",
       "    </tr>\n",
       "    <tr>\n",
       "      <th>4</th>\n",
       "      <td>why i have depression and what it makes me fee...</td>\n",
       "      <td>1</td>\n",
       "      <td>9396</td>\n",
       "    </tr>\n",
       "    <tr>\n",
       "      <th>...</th>\n",
       "      <td>...</td>\n",
       "      <td>...</td>\n",
       "      <td>...</td>\n",
       "    </tr>\n",
       "    <tr>\n",
       "      <th>9114</th>\n",
       "      <td></td>\n",
       "      <td>0</td>\n",
       "      <td>1</td>\n",
       "    </tr>\n",
       "    <tr>\n",
       "      <th>9115</th>\n",
       "      <td>l</td>\n",
       "      <td>0</td>\n",
       "      <td>1</td>\n",
       "    </tr>\n",
       "    <tr>\n",
       "      <th>9116</th>\n",
       "      <td></td>\n",
       "      <td>0</td>\n",
       "      <td>1</td>\n",
       "    </tr>\n",
       "    <tr>\n",
       "      <th>9117</th>\n",
       "      <td></td>\n",
       "      <td>0</td>\n",
       "      <td>1</td>\n",
       "    </tr>\n",
       "    <tr>\n",
       "      <th>9118</th>\n",
       "      <td></td>\n",
       "      <td>0</td>\n",
       "      <td>1</td>\n",
       "    </tr>\n",
       "  </tbody>\n",
       "</table>\n",
       "<p>9119 rows × 3 columns</p>\n",
       "</div>"
      ],
      "text/plain": [
       "                                                  tweet  intention    len\n",
       "0     my diary log as of so far okay my first time w...          1  24038\n",
       "1     i hate my life and wish i wasnt me very long p...          1  15726\n",
       "2     my life so far i cant reach out to anyone soi ...          1  14960\n",
       "3     tears in the shadow pt1 i figured out that i n...          1  12581\n",
       "4     why i have depression and what it makes me fee...          1   9396\n",
       "...                                                 ...        ...    ...\n",
       "9114                                                             0      1\n",
       "9115                                                  l          0      1\n",
       "9116                                                             0      1\n",
       "9117                                                             0      1\n",
       "9118                                                             0      1\n",
       "\n",
       "[9119 rows x 3 columns]"
      ]
     },
     "execution_count": 15,
     "metadata": {},
     "output_type": "execute_result"
    }
   ],
   "source": [
    "lax_posts = lax_data.copy(deep=True)\n",
    "\n",
    "lax_labels = lax_posts['intention'].unique()\n",
    "\n",
    "for label in lax_labels:\n",
    "  items = lax_posts[lax_posts['intention']==label]\n",
    "  \n",
    "  items = items.sample(n=10)\n",
    "  items = items.dropna()\n",
    "\n",
    "  print(f'LABEL: {label}\\n--------------------------------')\n",
    "  for index in items.index:\n",
    "    print(f\"- {items['tweet'][index]}\")\n",
    "    \n",
    "  print()\n",
    "\n",
    "lax_posts"
   ]
  },
  {
   "cell_type": "markdown",
   "metadata": {
    "id": "ZVPPb57OkCSV"
   },
   "source": [
    "### Findings\n",
    "\n",
    "- Based on the above samples, we may conclude that the \"1\" label clearly gives an indication of suicidality.\n",
    "- Also, it looks like the \"0\" label is not suicidal."
   ]
  },
  {
   "cell_type": "markdown",
   "metadata": {
    "id": "-Ri5ZYMulLBh"
   },
   "source": [
    "### Primary Cleanup & Save Dataset\n",
    "\n",
    "We'll clean the dataset and finally transform it to support as a training data for **suicidal-electra** model."
   ]
  },
  {
   "cell_type": "code",
   "execution_count": 16,
   "metadata": {
    "colab": {
     "base_uri": "https://localhost:8080/",
     "height": 424
    },
    "id": "wuSgcp7plgwx",
    "outputId": "a204a398-a304-477f-db94-8eab12146a07"
   },
   "outputs": [
    {
     "data": {
      "text/html": [
       "<div>\n",
       "<style scoped>\n",
       "    .dataframe tbody tr th:only-of-type {\n",
       "        vertical-align: middle;\n",
       "    }\n",
       "\n",
       "    .dataframe tbody tr th {\n",
       "        vertical-align: top;\n",
       "    }\n",
       "\n",
       "    .dataframe thead th {\n",
       "        text-align: right;\n",
       "    }\n",
       "</style>\n",
       "<table border=\"1\" class=\"dataframe\">\n",
       "  <thead>\n",
       "    <tr style=\"text-align: right;\">\n",
       "      <th></th>\n",
       "      <th>text</th>\n",
       "      <th>class</th>\n",
       "    </tr>\n",
       "  </thead>\n",
       "  <tbody>\n",
       "    <tr>\n",
       "      <th>0</th>\n",
       "      <td>my diary log as of so far okay my first time w...</td>\n",
       "      <td>1</td>\n",
       "    </tr>\n",
       "    <tr>\n",
       "      <th>1</th>\n",
       "      <td>i hate my life and wish i wasnt me very long p...</td>\n",
       "      <td>1</td>\n",
       "    </tr>\n",
       "    <tr>\n",
       "      <th>2</th>\n",
       "      <td>my life so far i cant reach out to anyone soi ...</td>\n",
       "      <td>1</td>\n",
       "    </tr>\n",
       "    <tr>\n",
       "      <th>3</th>\n",
       "      <td>tears in the shadow pt1 i figured out that i n...</td>\n",
       "      <td>1</td>\n",
       "    </tr>\n",
       "    <tr>\n",
       "      <th>4</th>\n",
       "      <td>why i have depression and what it makes me fee...</td>\n",
       "      <td>1</td>\n",
       "    </tr>\n",
       "    <tr>\n",
       "      <th>...</th>\n",
       "      <td>...</td>\n",
       "      <td>...</td>\n",
       "    </tr>\n",
       "    <tr>\n",
       "      <th>9114</th>\n",
       "      <td></td>\n",
       "      <td>0</td>\n",
       "    </tr>\n",
       "    <tr>\n",
       "      <th>9115</th>\n",
       "      <td>l</td>\n",
       "      <td>0</td>\n",
       "    </tr>\n",
       "    <tr>\n",
       "      <th>9116</th>\n",
       "      <td></td>\n",
       "      <td>0</td>\n",
       "    </tr>\n",
       "    <tr>\n",
       "      <th>9117</th>\n",
       "      <td></td>\n",
       "      <td>0</td>\n",
       "    </tr>\n",
       "    <tr>\n",
       "      <th>9118</th>\n",
       "      <td></td>\n",
       "      <td>0</td>\n",
       "    </tr>\n",
       "  </tbody>\n",
       "</table>\n",
       "<p>9119 rows × 2 columns</p>\n",
       "</div>"
      ],
      "text/plain": [
       "                                                   text  class\n",
       "0     my diary log as of so far okay my first time w...      1\n",
       "1     i hate my life and wish i wasnt me very long p...      1\n",
       "2     my life so far i cant reach out to anyone soi ...      1\n",
       "3     tears in the shadow pt1 i figured out that i n...      1\n",
       "4     why i have depression and what it makes me fee...      1\n",
       "...                                                 ...    ...\n",
       "9114                                                         0\n",
       "9115                                                  l      0\n",
       "9116                                                         0\n",
       "9117                                                         0\n",
       "9118                                                         0\n",
       "\n",
       "[9119 rows x 2 columns]"
      ]
     },
     "execution_count": 16,
     "metadata": {},
     "output_type": "execute_result"
    }
   ],
   "source": [
    "lax_export = lax_posts[['tweet', 'intention']].copy()\n",
    "\n",
    "lax_export['intention'] = lax_export['intention'].map(lambda label: LABEL_SUICIDAL if (label == 1) else LABEL_NON_SUICIDAL)\n",
    "\n",
    "lax_export = lax_export.rename(columns={\"tweet\": \"text\", \"intention\": \"class\"})\n",
    "\n",
    "lax_export.to_csv(LAX_DATASET_EXPORT_PATH, index=False)\n",
    "lax_export"
   ]
  },
  {
   "cell_type": "markdown",
   "metadata": {
    "id": "8-hK7bv9QhzH"
   },
   "source": [
    "## Data Source: mohanedmashaly\n",
    "\n",
    "https://www.kaggle.com/datasets/mohanedmashaly/suicide-notes"
   ]
  },
  {
   "cell_type": "markdown",
   "metadata": {
    "id": "EeVg7b3FRjSB"
   },
   "source": [
    "### Pull Data"
   ]
  },
  {
   "cell_type": "code",
   "execution_count": 17,
   "metadata": {
    "colab": {
     "base_uri": "https://localhost:8080/",
     "height": 442
    },
    "id": "RN8ZHN39QO__",
    "outputId": "2e1d380d-9b3a-432c-ac41-d1cf5aaee493"
   },
   "outputs": [
    {
     "name": "stdout",
     "output_type": "stream",
     "text": [
      "Skipping, found downloaded files in \"./datasets/downloads/suicide-notes\" (use force=True to force download)\n"
     ]
    },
    {
     "data": {
      "text/html": [
       "<div>\n",
       "<style scoped>\n",
       "    .dataframe tbody tr th:only-of-type {\n",
       "        vertical-align: middle;\n",
       "    }\n",
       "\n",
       "    .dataframe tbody tr th {\n",
       "        vertical-align: top;\n",
       "    }\n",
       "\n",
       "    .dataframe thead th {\n",
       "        text-align: right;\n",
       "    }\n",
       "</style>\n",
       "<table border=\"1\" class=\"dataframe\">\n",
       "  <thead>\n",
       "    <tr style=\"text-align: right;\">\n",
       "      <th></th>\n",
       "      <th>id</th>\n",
       "      <th>text</th>\n",
       "    </tr>\n",
       "  </thead>\n",
       "  <tbody>\n",
       "    <tr>\n",
       "      <th>0</th>\n",
       "      <td>1</td>\n",
       "      <td>I have to put this in writing somehow so I sti...</td>\n",
       "    </tr>\n",
       "    <tr>\n",
       "      <th>1</th>\n",
       "      <td>2</td>\n",
       "      <td>I've made my peace with the fact that I'm goin...</td>\n",
       "    </tr>\n",
       "    <tr>\n",
       "      <th>2</th>\n",
       "      <td>3</td>\n",
       "      <td>I really want help now i just cant so this any...</td>\n",
       "    </tr>\n",
       "    <tr>\n",
       "      <th>3</th>\n",
       "      <td>4</td>\n",
       "      <td>I can't think of any reason to stay. I have no...</td>\n",
       "    </tr>\n",
       "    <tr>\n",
       "      <th>4</th>\n",
       "      <td>5</td>\n",
       "      <td>NaN</td>\n",
       "    </tr>\n",
       "    <tr>\n",
       "      <th>...</th>\n",
       "      <td>...</td>\n",
       "      <td>...</td>\n",
       "    </tr>\n",
       "    <tr>\n",
       "      <th>493</th>\n",
       "      <td>494</td>\n",
       "      <td>Since I was 9 I felt depressed and almost took...</td>\n",
       "    </tr>\n",
       "    <tr>\n",
       "      <th>494</th>\n",
       "      <td>495</td>\n",
       "      <td>I don't know why I'm reaching out now of all t...</td>\n",
       "    </tr>\n",
       "    <tr>\n",
       "      <th>495</th>\n",
       "      <td>496</td>\n",
       "      <td>I dont believe in an afterlife, but i stay up ...</td>\n",
       "    </tr>\n",
       "    <tr>\n",
       "      <th>496</th>\n",
       "      <td>497</td>\n",
       "      <td>I don't think I actually will kill myself, but...</td>\n",
       "    </tr>\n",
       "    <tr>\n",
       "      <th>497</th>\n",
       "      <td>498</td>\n",
       "      <td>I wanna die so badly but everytime I hear abou...</td>\n",
       "    </tr>\n",
       "  </tbody>\n",
       "</table>\n",
       "<p>498 rows × 2 columns</p>\n",
       "</div>"
      ],
      "text/plain": [
       "      id                                               text\n",
       "0      1  I have to put this in writing somehow so I sti...\n",
       "1      2  I've made my peace with the fact that I'm goin...\n",
       "2      3  I really want help now i just cant so this any...\n",
       "3      4  I can't think of any reason to stay. I have no...\n",
       "4      5                                                NaN\n",
       "..   ...                                                ...\n",
       "493  494  Since I was 9 I felt depressed and almost took...\n",
       "494  495  I don't know why I'm reaching out now of all t...\n",
       "495  496  I dont believe in an afterlife, but i stay up ...\n",
       "496  497  I don't think I actually will kill myself, but...\n",
       "497  498  I wanna die so badly but everytime I hear abou...\n",
       "\n",
       "[498 rows x 2 columns]"
      ]
     },
     "execution_count": 17,
     "metadata": {},
     "output_type": "execute_result"
    }
   ],
   "source": [
    "od.download(MSH_DATASET_URL, DATASETS_DOWNLOAD_PATH)\n",
    "msh_data = pd.read_csv(f'{DATASETS_DOWNLOAD_PATH}/suicide-notes/test.csv')\n",
    "msh_data"
   ]
  },
  {
   "cell_type": "markdown",
   "metadata": {
    "id": "ZVPPb57OkCSV"
   },
   "source": [
    "### Findings\n",
    "\n",
    "- The above are all suicide notes, which can be direcyly assigned as suicidal."
   ]
  },
  {
   "cell_type": "markdown",
   "metadata": {
    "id": "-Ri5ZYMulLBh"
   },
   "source": [
    "### Primary Cleanup & Save Dataset\n",
    "\n",
    "We'll clean the dataset and finally transform it to support as a training data for **suicidal-electra** model."
   ]
  },
  {
   "cell_type": "code",
   "execution_count": 4,
   "metadata": {
    "colab": {
     "base_uri": "https://localhost:8080/",
     "height": 424
    },
    "id": "wuSgcp7plgwx",
    "outputId": "a204a398-a304-477f-db94-8eab12146a07",
    "scrolled": true
   },
   "outputs": [
    {
     "ename": "NameError",
     "evalue": "name 'msh_data' is not defined",
     "output_type": "error",
     "traceback": [
      "\u001b[0;31m---------------------------------------------------------------------------\u001b[0m",
      "\u001b[0;31mNameError\u001b[0m                                 Traceback (most recent call last)",
      "Cell \u001b[0;32mIn[4], line 1\u001b[0m\n\u001b[0;32m----> 1\u001b[0m msh_export \u001b[38;5;241m=\u001b[39m \u001b[43mmsh_data\u001b[49m[[\u001b[38;5;124m'\u001b[39m\u001b[38;5;124mtext\u001b[39m\u001b[38;5;124m'\u001b[39m]]\u001b[38;5;241m.\u001b[39mcopy()\n\u001b[1;32m      3\u001b[0m msh_export[\u001b[38;5;124m'\u001b[39m\u001b[38;5;124mclass\u001b[39m\u001b[38;5;124m'\u001b[39m] \u001b[38;5;241m=\u001b[39m LABEL_SUICIDAL\n\u001b[1;32m      5\u001b[0m msh_export\u001b[38;5;241m.\u001b[39mto_csv(MSH_DATASET_EXPORT_PATH, index\u001b[38;5;241m=\u001b[39m\u001b[38;5;28;01mFalse\u001b[39;00m)\n",
      "\u001b[0;31mNameError\u001b[0m: name 'msh_data' is not defined"
     ]
    }
   ],
   "source": [
    "msh_export = msh_data[['text']].copy()\n",
    "\n",
    "msh_export['class'] = LABEL_SUICIDAL\n",
    "\n",
    "msh_export.to_csv(MSH_DATASET_EXPORT_PATH, index=False)\n",
    "msh_export"
   ]
  },
  {
   "cell_type": "markdown",
   "metadata": {
    "id": "8-hK7bv9QhzH"
   },
   "source": [
    "## Data Source: natalialech (ntl)\n",
    "\n",
    "https://www.kaggle.com/datasets/natalialech/suicidal-ideation-on-twitter"
   ]
  },
  {
   "cell_type": "markdown",
   "metadata": {
    "id": "EeVg7b3FRjSB"
   },
   "source": [
    "### Pull Data"
   ]
  },
  {
   "cell_type": "code",
   "execution_count": 5,
   "metadata": {
    "colab": {
     "base_uri": "https://localhost:8080/",
     "height": 442
    },
    "id": "RN8ZHN39QO__",
    "outputId": "2e1d380d-9b3a-432c-ac41-d1cf5aaee493"
   },
   "outputs": [
    {
     "name": "stdout",
     "output_type": "stream",
     "text": [
      "Skipping, found downloaded files in \"./datasets/downloads/suicidal-ideation-on-twitter\" (use force=True to force download)\n"
     ]
    },
    {
     "data": {
      "text/html": [
       "<div>\n",
       "<style scoped>\n",
       "    .dataframe tbody tr th:only-of-type {\n",
       "        vertical-align: middle;\n",
       "    }\n",
       "\n",
       "    .dataframe tbody tr th {\n",
       "        vertical-align: top;\n",
       "    }\n",
       "\n",
       "    .dataframe thead th {\n",
       "        text-align: right;\n",
       "    }\n",
       "</style>\n",
       "<table border=\"1\" class=\"dataframe\">\n",
       "  <thead>\n",
       "    <tr style=\"text-align: right;\">\n",
       "      <th></th>\n",
       "      <th>id</th>\n",
       "      <th>label</th>\n",
       "      <th>dataset</th>\n",
       "    </tr>\n",
       "  </thead>\n",
       "  <tbody>\n",
       "    <tr>\n",
       "      <th>0</th>\n",
       "      <td>1608974517421985793</td>\n",
       "      <td>4</td>\n",
       "      <td>training</td>\n",
       "    </tr>\n",
       "    <tr>\n",
       "      <th>1</th>\n",
       "      <td>1519909372314341376</td>\n",
       "      <td>2</td>\n",
       "      <td>training</td>\n",
       "    </tr>\n",
       "    <tr>\n",
       "      <th>2</th>\n",
       "      <td>1608975908509192193</td>\n",
       "      <td>4</td>\n",
       "      <td>training</td>\n",
       "    </tr>\n",
       "    <tr>\n",
       "      <th>3</th>\n",
       "      <td>1608975532112384000</td>\n",
       "      <td>4</td>\n",
       "      <td>training</td>\n",
       "    </tr>\n",
       "    <tr>\n",
       "      <th>4</th>\n",
       "      <td>1608975358275223553</td>\n",
       "      <td>4</td>\n",
       "      <td>training</td>\n",
       "    </tr>\n",
       "    <tr>\n",
       "      <th>...</th>\n",
       "      <td>...</td>\n",
       "      <td>...</td>\n",
       "      <td>...</td>\n",
       "    </tr>\n",
       "    <tr>\n",
       "      <th>81514</th>\n",
       "      <td>1608976180627079168</td>\n",
       "      <td>4</td>\n",
       "      <td>test</td>\n",
       "    </tr>\n",
       "    <tr>\n",
       "      <th>81515</th>\n",
       "      <td>1608974539790352384</td>\n",
       "      <td>4</td>\n",
       "      <td>test</td>\n",
       "    </tr>\n",
       "    <tr>\n",
       "      <th>81516</th>\n",
       "      <td>1608974442717405191</td>\n",
       "      <td>4</td>\n",
       "      <td>test</td>\n",
       "    </tr>\n",
       "    <tr>\n",
       "      <th>81517</th>\n",
       "      <td>1608975883192397829</td>\n",
       "      <td>4</td>\n",
       "      <td>training</td>\n",
       "    </tr>\n",
       "    <tr>\n",
       "      <th>81518</th>\n",
       "      <td>1601200580932022272</td>\n",
       "      <td>3</td>\n",
       "      <td>test</td>\n",
       "    </tr>\n",
       "  </tbody>\n",
       "</table>\n",
       "<p>81519 rows × 3 columns</p>\n",
       "</div>"
      ],
      "text/plain": [
       "                        id  label   dataset\n",
       "0      1608974517421985793      4  training\n",
       "1      1519909372314341376      2  training\n",
       "2      1608975908509192193      4  training\n",
       "3      1608975532112384000      4  training\n",
       "4      1608975358275223553      4  training\n",
       "...                    ...    ...       ...\n",
       "81514  1608976180627079168      4      test\n",
       "81515  1608974539790352384      4      test\n",
       "81516  1608974442717405191      4      test\n",
       "81517  1608975883192397829      4  training\n",
       "81518  1601200580932022272      3      test\n",
       "\n",
       "[81519 rows x 3 columns]"
      ]
     },
     "execution_count": 5,
     "metadata": {},
     "output_type": "execute_result"
    }
   ],
   "source": [
    "od.download(NTL_DATASET_URL, DATASETS_DOWNLOAD_PATH)\n",
    "ntl_data = pd.read_csv(f'{DATASETS_DOWNLOAD_PATH}/suicidal-ideation-on-twitter/suicidal ideation dataset.csv')\n",
    "ntl_data"
   ]
  },
  {
   "cell_type": "markdown",
   "metadata": {},
   "source": [
    "### Populate Tweet using ID"
   ]
  },
  {
   "cell_type": "code",
   "execution_count": 8,
   "metadata": {},
   "outputs": [
    {
     "name": "stdout",
     "output_type": "stream",
     "text": [
      "Requirement already satisfied: requests in /home/sukanta/miniconda3/lib/python3.11/site-packages (2.31.0)\n",
      "Requirement already satisfied: charset-normalizer<4,>=2 in /home/sukanta/miniconda3/lib/python3.11/site-packages (from requests) (3.2.0)\n",
      "Requirement already satisfied: idna<4,>=2.5 in /home/sukanta/miniconda3/lib/python3.11/site-packages (from requests) (3.4)\n",
      "Requirement already satisfied: urllib3<3,>=1.21.1 in /home/sukanta/miniconda3/lib/python3.11/site-packages (from requests) (1.26.16)\n",
      "Requirement already satisfied: certifi>=2017.4.17 in /home/sukanta/miniconda3/lib/python3.11/site-packages (from requests) (2023.7.22)\n"
     ]
    }
   ],
   "source": [
    "!pip install requests"
   ]
  },
  {
   "cell_type": "code",
   "execution_count": 42,
   "metadata": {},
   "outputs": [
    {
     "name": "stderr",
     "output_type": "stream",
     "text": [
      "Pandas Apply: 100%|████████████████████████████████████████████████████████████████████████████████████████████████████████████████████████████████████████████| 3/3 [00:02<00:00,  1.18it/s]\n"
     ]
    },
    {
     "data": {
      "text/html": [
       "<div>\n",
       "<style scoped>\n",
       "    .dataframe tbody tr th:only-of-type {\n",
       "        vertical-align: middle;\n",
       "    }\n",
       "\n",
       "    .dataframe tbody tr th {\n",
       "        vertical-align: top;\n",
       "    }\n",
       "\n",
       "    .dataframe thead th {\n",
       "        text-align: right;\n",
       "    }\n",
       "</style>\n",
       "<table border=\"1\" class=\"dataframe\">\n",
       "  <thead>\n",
       "    <tr style=\"text-align: right;\">\n",
       "      <th></th>\n",
       "      <th>id</th>\n",
       "      <th>label</th>\n",
       "      <th>dataset</th>\n",
       "      <th>tweet</th>\n",
       "    </tr>\n",
       "  </thead>\n",
       "  <tbody>\n",
       "    <tr>\n",
       "      <th>5424</th>\n",
       "      <td>1400051688648720384</td>\n",
       "      <td>1</td>\n",
       "      <td>training</td>\n",
       "      <td>NaN</td>\n",
       "    </tr>\n",
       "    <tr>\n",
       "      <th>49552</th>\n",
       "      <td>1608974877226336257</td>\n",
       "      <td>4</td>\n",
       "      <td>training</td>\n",
       "      <td>NaN</td>\n",
       "    </tr>\n",
       "    <tr>\n",
       "      <th>78460</th>\n",
       "      <td>1608974547629531138</td>\n",
       "      <td>4</td>\n",
       "      <td>training</td>\n",
       "      <td>NaN</td>\n",
       "    </tr>\n",
       "    <tr>\n",
       "      <th>59114</th>\n",
       "      <td>1608975026124115969</td>\n",
       "      <td>4</td>\n",
       "      <td>training</td>\n",
       "      <td>NaN</td>\n",
       "    </tr>\n",
       "    <tr>\n",
       "      <th>49626</th>\n",
       "      <td>1608975699947458560</td>\n",
       "      <td>4</td>\n",
       "      <td>training</td>\n",
       "      <td>NaN</td>\n",
       "    </tr>\n",
       "    <tr>\n",
       "      <th>12889</th>\n",
       "      <td>1608974818656780290</td>\n",
       "      <td>4</td>\n",
       "      <td>training</td>\n",
       "      <td>NaN</td>\n",
       "    </tr>\n",
       "    <tr>\n",
       "      <th>55839</th>\n",
       "      <td>1479017082293563392</td>\n",
       "      <td>0</td>\n",
       "      <td>test</td>\n",
       "      <td>NaN</td>\n",
       "    </tr>\n",
       "    <tr>\n",
       "      <th>54100</th>\n",
       "      <td>1608975003718156289</td>\n",
       "      <td>4</td>\n",
       "      <td>training</td>\n",
       "      <td>NaN</td>\n",
       "    </tr>\n",
       "    <tr>\n",
       "      <th>66967</th>\n",
       "      <td>1608975447106416642</td>\n",
       "      <td>4</td>\n",
       "      <td>training</td>\n",
       "      <td>NaN</td>\n",
       "    </tr>\n",
       "    <tr>\n",
       "      <th>172</th>\n",
       "      <td>1593025462451965954</td>\n",
       "      <td>3</td>\n",
       "      <td>test</td>\n",
       "      <td>NaN</td>\n",
       "    </tr>\n",
       "  </tbody>\n",
       "</table>\n",
       "</div>"
      ],
      "text/plain": [
       "                        id  label   dataset tweet\n",
       "5424   1400051688648720384      1  training   NaN\n",
       "49552  1608974877226336257      4  training   NaN\n",
       "78460  1608974547629531138      4  training   NaN\n",
       "59114  1608975026124115969      4  training   NaN\n",
       "49626  1608975699947458560      4  training   NaN\n",
       "12889  1608974818656780290      4  training   NaN\n",
       "55839  1479017082293563392      0      test   NaN\n",
       "54100  1608975003718156289      4  training   NaN\n",
       "66967  1608975447106416642      4  training   NaN\n",
       "172    1593025462451965954      3      test   NaN"
      ]
     },
     "execution_count": 42,
     "metadata": {},
     "output_type": "execute_result"
    }
   ],
   "source": [
    "import requests\n",
    "\n",
    "def get_tweet_by_id(id):\n",
    "  url = f'http://localhost:7373/tweet-by-id/?id={id}'\n",
    "  \n",
    "  try:\n",
    "    response = requests.get(url)\n",
    "    tweet = response.text\n",
    "    return '' if tweet == None else str(tweet)\n",
    "\n",
    "  except:\n",
    "    return ''\n",
    "\n",
    "ntl_export = ntl_data.copy().sample(10)\n",
    "\n",
    "ntl_export['tweet'] = ntl_export.swifter.apply(lambda id: get_tweet_by_id(id))\n",
    "\n",
    "\n",
    "ntl_export"
   ]
  },
  {
   "cell_type": "code",
   "execution_count": 21,
   "metadata": {},
   "outputs": [
    {
     "name": "stdout",
     "output_type": "stream",
     "text": [
      "- https://strawberry⠀.⠀\n",
      "\n",
      "genuinely think my account is shadow-banned bc nobody gets a notification when i follow them && my pin doesn't appear on any of the hash tags when you search them up .\n",
      "\n",
      "BUT I DON'T KNOW HOW BC I JUST MADE IT ?????\n",
      "- As much progress as I have made with my depression, there are still days I wake up and I just wish I didn’t exist. I don’t think that’ll ever go away.\n",
      "- http://seibertron.comさんの新しい記事が到着したよ。【自動投稿】 #トランスフォーマー #Transformers 10 of 2022 - Share with us your Top 10 Transformers Purchases of 2022\n",
      "- Dunbrooke Women's Gray San Francisco 49ers Full-Zip Softshell Fleece Jacket CRIMGQV\n",
      "\n",
      "https://amazon.com/dp/B06X9PKLPY?tag=anniecstiedemann-20…\n",
      "- Tw:// mental health \n",
      "\n",
      "Sometimes I wish I was never born. Why did my mum choose to have another baby ? Why why\n",
      "- I feel like doing you a $SOLID \n",
      "\n",
      "Join my friends at \n",
      "@SolidSignalAi\n",
      " and get this party going \n",
      "\n",
      "Don't miss it \n",
      "\n",
      "#NFT #RealBizz #ETH #airdrop #giveway\n",
      "- hamstrings ready to end my life whike walking down the stairs\n",
      "- I'm in Tokyo now. You are too far away from me now.\n",
      "- Rocket League with Friends\n",
      "- I’m gonna kill myself\n"
     ]
    },
    {
     "data": {
      "text/plain": [
       "47835    None\n",
       "618      None\n",
       "47682    None\n",
       "16694    None\n",
       "24381    None\n",
       "16524    None\n",
       "19027    None\n",
       "51116    None\n",
       "470      None\n",
       "4238     None\n",
       "Name: tweet, dtype: object"
      ]
     },
     "execution_count": 21,
     "metadata": {},
     "output_type": "execute_result"
    }
   ],
   "source": [
    "ntl_export['tweet'].apply(lambda tweet: print(f'- {tweet}'))"
   ]
  },
  {
   "cell_type": "markdown",
   "metadata": {
    "id": "ZVPPb57OkCSV"
   },
   "source": [
    "### Findings - Not Feasible\n",
    "\n",
    "After running several tests, it looks like, fetching the tweets without using API, limits its usage and making it completely unusable.\n",
    "For now, we are dropping this."
   ]
  },
  {
   "cell_type": "code",
   "execution_count": 81,
   "metadata": {
    "colab": {
     "base_uri": "https://localhost:8080/",
     "height": 424
    },
    "id": "wuSgcp7plgwx",
    "outputId": "a204a398-a304-477f-db94-8eab12146a07",
    "scrolled": true
   },
   "outputs": [
    {
     "data": {
      "text/html": [
       "<div>\n",
       "<style scoped>\n",
       "    .dataframe tbody tr th:only-of-type {\n",
       "        vertical-align: middle;\n",
       "    }\n",
       "\n",
       "    .dataframe tbody tr th {\n",
       "        vertical-align: top;\n",
       "    }\n",
       "\n",
       "    .dataframe thead th {\n",
       "        text-align: right;\n",
       "    }\n",
       "</style>\n",
       "<table border=\"1\" class=\"dataframe\">\n",
       "  <thead>\n",
       "    <tr style=\"text-align: right;\">\n",
       "      <th></th>\n",
       "      <th>tweet</th>\n",
       "      <th>label</th>\n",
       "    </tr>\n",
       "  </thead>\n",
       "  <tbody>\n",
       "    <tr>\n",
       "      <th>0</th>\n",
       "      <td>None</td>\n",
       "      <td>4</td>\n",
       "    </tr>\n",
       "    <tr>\n",
       "      <th>1</th>\n",
       "      <td>None</td>\n",
       "      <td>2</td>\n",
       "    </tr>\n",
       "    <tr>\n",
       "      <th>2</th>\n",
       "      <td>None</td>\n",
       "      <td>4</td>\n",
       "    </tr>\n",
       "    <tr>\n",
       "      <th>3</th>\n",
       "      <td>None</td>\n",
       "      <td>4</td>\n",
       "    </tr>\n",
       "    <tr>\n",
       "      <th>4</th>\n",
       "      <td>None</td>\n",
       "      <td>4</td>\n",
       "    </tr>\n",
       "    <tr>\n",
       "      <th>...</th>\n",
       "      <td>...</td>\n",
       "      <td>...</td>\n",
       "    </tr>\n",
       "    <tr>\n",
       "      <th>81514</th>\n",
       "      <td>None</td>\n",
       "      <td>4</td>\n",
       "    </tr>\n",
       "    <tr>\n",
       "      <th>81515</th>\n",
       "      <td>None</td>\n",
       "      <td>4</td>\n",
       "    </tr>\n",
       "    <tr>\n",
       "      <th>81516</th>\n",
       "      <td>None</td>\n",
       "      <td>4</td>\n",
       "    </tr>\n",
       "    <tr>\n",
       "      <th>81517</th>\n",
       "      <td>None</td>\n",
       "      <td>4</td>\n",
       "    </tr>\n",
       "    <tr>\n",
       "      <th>81518</th>\n",
       "      <td>None</td>\n",
       "      <td>3</td>\n",
       "    </tr>\n",
       "  </tbody>\n",
       "</table>\n",
       "<p>81519 rows × 2 columns</p>\n",
       "</div>"
      ],
      "text/plain": [
       "      tweet  label\n",
       "0      None      4\n",
       "1      None      2\n",
       "2      None      4\n",
       "3      None      4\n",
       "4      None      4\n",
       "...     ...    ...\n",
       "81514  None      4\n",
       "81515  None      4\n",
       "81516  None      4\n",
       "81517  None      4\n",
       "81518  None      3\n",
       "\n",
       "[81519 rows x 2 columns]"
      ]
     },
     "execution_count": 81,
     "metadata": {},
     "output_type": "execute_result"
    }
   ],
   "source": [
    "ntl_export = ntl_data[['tweet', 'label']].copy()\n",
    "\n",
    "ntl_export\n",
    "\n",
    "# msh_export['class'] = LABEL_SUICIDAL\n",
    "\n",
    "# msh_export.to_csv(MSH_DATASET_EXPORT_PATH, index=False)\n",
    "# msh_export"
   ]
  },
  {
   "cell_type": "markdown",
   "metadata": {},
   "source": [
    "### Define Pre-Processors"
   ]
  },
  {
   "cell_type": "code",
   "execution_count": null,
   "metadata": {},
   "outputs": [],
   "source": [
    "# Summarizer\n",
    "summarize = pipeline(\"summarization\", model=\"philschmid/bart-large-cnn-samsum\", framework='pt')\n",
    "\n",
    "# Create chunks\n",
    "\n",
    "def chunks(l, n):\n",
    "    # looping till length l\n",
    "    for i in range(0, len(l), n):\n",
    "        yield l[i:i + n]\n",
    "\n",
    "\n",
    "# generate summary recursively\n",
    "\n",
    "def recursive_summary(text, chunk_size=250, min_length=40, max_length=50):\n",
    "\n",
    "    if len( text ) <= max_length:\n",
    "      return text\n",
    "  \n",
    "    lines = list(map(lambda words: ' '.join(words), list(chunks(text.split(), chunk_size))))\n",
    "    summaries = []\n",
    "    for line in lines:\n",
    "\n",
    "        if len(line) < 30:\n",
    "            continue\n",
    "\n",
    "        s = summarize(line, min_length=min_length, max_length=max_length)\n",
    "        s = s[0][\"summary_text\"]\n",
    "        summaries.append(s)\n",
    "\n",
    "    text = ' '.join(summaries)\n",
    "\n",
    "    if len(lines) <= 1:\n",
    "        return text\n",
    "\n",
    "    return recursive_summary(text, chunk_size=chunk_size, min_length=min_length, max_length=max_length)"
   ]
  },
  {
   "cell_type": "code",
   "execution_count": null,
   "metadata": {
    "id": "Wsvdunhf65ke"
   },
   "outputs": [],
   "source": [
    "# Defining Methods\n",
    "\n",
    "nlp = spacy.load(\"en_core_web_sm\")\n",
    "\n",
    "vocab = collections.Counter()\n",
    "\n",
    "sym_spell = SymSpell(max_dictionary_edit_distance=2, prefix_length=7)\n",
    "\n",
    "dictionary_path = pkg_resources.resource_filename(\"symspellpy\", \"frequency_dictionary_en_82_765.txt\")\n",
    "bigram_path = pkg_resources.resource_filename(\"symspellpy\", \"frequency_bigramdictionary_en_243_342.txt\")\n",
    "\n",
    "sym_spell.load_dictionary(dictionary_path, term_index=0, count_index=1)\n",
    "sym_spell.load_bigram_dictionary(bigram_path, term_index=0, count_index=2)\n",
    "\n",
    "\n",
    "# Spell Check using Symspell\n",
    "def fix_spelling(text):\n",
    "    suggestions = sym_spell.lookup_compound(text, max_edit_distance=2)\n",
    "    correctedtext = suggestions[0].term # get the first suggestion, otherwise returns original text if nothing is corrected\n",
    "    return correctedtext\n",
    "\n",
    "# Remove some important words from stopwords list\n",
    "deselect_stop_words = ['no', 'not']\n",
    "\n",
    "for w in deselect_stop_words:\n",
    "    nlp.vocab[w].is_stop = False\n",
    "\n",
    "# Remove extra whitespaces from text\n",
    "def remove_whitespace(text):\n",
    "    text = text.strip()\n",
    "    return \" \".join(text.split())\n",
    "\n",
    "# Remove accented characters from text, e.g. café\n",
    "def remove_accented_chars(text):\n",
    "    text = unidecode.unidecode(text)\n",
    "    return text\n",
    "\n",
    "# Remove URL\n",
    "def remove_url(text):\n",
    "    return re.sub(r'http\\S+', '', text)\n",
    "\n",
    "# Removing symbols and digits\n",
    "def remove_symbols_digits(text):\n",
    "    return re.sub('[^a-zA-Z\\s]', ' ', text)\n",
    "\n",
    "# Removing special characters\n",
    "def remove_special(text):\n",
    "    return text.replace(\"\\r\", \" \").replace(\"\\n\", \" \").replace(\"    \", \" \").replace('\"', '')\n",
    "\n",
    "# Fix word lengthening (characters are wrongly repeated)\n",
    "def fix_lengthening(text):\n",
    "    pattern = re.compile(r\"(.)\\1{2,}\")\n",
    "    return pattern.sub(r\"\\1\\1\", text)\n",
    "\n",
    "def text_preprocessing(text, accented_chars=True, contractions=True, convert_num=True,\n",
    "                       extra_whitespace=True, lemmatization=True, lowercase=True,\n",
    "                       url=True, symbols_digits=True, special_chars=True,\n",
    "                       stop_words=True, lengthening=True, spelling=True):\n",
    "    \"\"\"preprocess text with default option set to true for all steps\"\"\"\n",
    "    if accented_chars == True: # remove accented characters\n",
    "        text = remove_accented_chars(text)\n",
    "    if contractions == True: # expand contractions\n",
    "        text = contract.fix(text)\n",
    "    if lowercase == True: # convert all characters to lowercase\n",
    "        text = text.lower()\n",
    "    if url == True: # remove URLs before removing symbols\n",
    "        text = remove_url(text)\n",
    "    if symbols_digits == True: # remove symbols and digits\n",
    "        text = remove_symbols_digits(text)\n",
    "    if special_chars == True: # remove special characters\n",
    "        text = remove_special(text)\n",
    "    if extra_whitespace == True: # remove extra whitespaces\n",
    "        text = remove_whitespace(text)\n",
    "    if lengthening == True: # fix word lengthening\n",
    "        text = fix_lengthening(text)\n",
    "    if spelling == True: # fix spelling\n",
    "        text = fix_spelling(text)\n",
    "\n",
    "    doc = nlp(text) # tokenise text\n",
    "\n",
    "    clean_text = []\n",
    "\n",
    "    # return text\n",
    "\n",
    "    for token in doc:\n",
    "        flag = True\n",
    "        edit = token.text\n",
    "        # remove stop words\n",
    "        if stop_words == True and token.is_stop and token.pos_ != 'NUM':\n",
    "            flag = False\n",
    "        # exclude number words\n",
    "        if convert_num == True and token.pos_ == 'NUM' and flag == True:\n",
    "            flag = False\n",
    "        # convert tokens to base form\n",
    "        elif lemmatization == True and token.lemma_ != \"-PRON-\" and flag == True:\n",
    "            edit = token.lemma_\n",
    "        # append tokens edited and not removed to list\n",
    "        if edit != \"\" and flag == True:\n",
    "            clean_text.append(edit)\n",
    "    return \" \".join(clean_text)"
   ]
  },
  {
   "cell_type": "markdown",
   "metadata": {
    "id": "v5p2jxMkPVv6"
   },
   "source": [
    "### Load & merge all datasets"
   ]
  },
  {
   "cell_type": "code",
   "execution_count": null,
   "metadata": {
    "colab": {
     "base_uri": "https://localhost:8080/",
     "height": 460
    },
    "id": "Et3dbnsx41Qc",
    "outputId": "7a66c2f1-cd72-4b59-aad6-eb89c3a91ed5"
   },
   "outputs": [],
   "source": [
    "ds = pd.DataFrame()\n",
    "\n",
    "for DATASET in SOURCE_DATASETS:\n",
    "  try:\n",
    "    source_ds = pd.read_csv(DATASET).reset_index(drop=True)\n",
    "    ds = pd.concat([ds, source_ds], axis=0)\n",
    "  except:\n",
    "    print(f\"WARNING: Failed loading: {DATASET}\")\n",
    "\n",
    "    \n",
    "print(\"UNCLEARED: \", ds.shape)\n",
    "\n",
    "ds = ds.dropna(axis=0)\n",
    "ds = ds.reset_index(drop=True)\n",
    "\n",
    "print(\"CLEARED: \", ds.shape)\n",
    "\n",
    "ds"
   ]
  },
  {
   "cell_type": "markdown",
   "metadata": {
    "id": "mKwPgVIezXf5"
   },
   "source": [
    "### Text Propressing\n",
    "\n",
    "We'll run the text processing pipeline for the dataset, to make sure all the textual contents are corrected and normalized, which can later be used to train suicidal-electra model."
   ]
  },
  {
   "cell_type": "code",
   "execution_count": null,
   "metadata": {},
   "outputs": [],
   "source": [
    "# Get word count of posts\n",
    "text_len = [len(x.split()) for x in ds['text']]\n",
    "pd.Series(text_len).hist(bins=80)\n",
    "plt.show()\n",
    "print(pd.Series(text_len).describe(percentiles=[.1,.2,.3,.4,.5,.6,.7,.8,.9]))"
   ]
  },
  {
   "cell_type": "markdown",
   "metadata": {
    "id": "x7cZvjXh0Eyl"
   },
   "source": [
    "#### Sample Preprocessing\n",
    "\n",
    "Initially we'll run a test on a small sample to make sure everything is working as expected."
   ]
  },
  {
   "cell_type": "code",
   "execution_count": null,
   "metadata": {},
   "outputs": [],
   "source": [
    "summary_threshold = 200\n",
    "\n",
    "sample = ds.sample(n=50)\n",
    "\n",
    "# apply summarizer to large text\n",
    "print(\"SUMMARIZE\")\n",
    "sample['summary'] = sample['text'].progress_apply(lambda text : text if len(text) <= summary_threshold else recursive_summary(text, chunk_size=300, min_length=50, max_length=100) )\n",
    "\n",
    "# apply text pre-processing\n",
    "print(\"PRE-PROCESS\")\n",
    "sample['cleaned'] = sample['summary'].sample(n=30).swifter.apply(lambda row: text_preprocessing(row))\n",
    "\n",
    "sample\n"
   ]
  },
  {
   "cell_type": "code",
   "execution_count": null,
   "metadata": {},
   "outputs": [],
   "source": [
    "for index in sample.index:\n",
    "  print(f\"RAW: {sample['text'][index]}\\n\")\n",
    "  print(f\"SMR: {sample['summary'][index]}\\n\")\n",
    "  print(f\"CLN: {sample['cleaned'][index]}\\n\")\n",
    "  print(\"-------\\n\")"
   ]
  },
  {
   "cell_type": "markdown",
   "metadata": {
    "id": "904sG1830TKT"
   },
   "source": [
    "#### Full Dataset Pre-Processing\n",
    "\n",
    "Preprocess the complete dataset."
   ]
  },
  {
   "cell_type": "code",
   "execution_count": null,
   "metadata": {
    "colab": {
     "base_uri": "https://localhost:8080/",
     "height": 389
    },
    "id": "iw7cT5vk7YSs",
    "outputId": "af54512d-e918-4a6b-80ee-5c531c826903"
   },
   "outputs": [],
   "source": [
    "export_ds = ds.copy()\n",
    "\n",
    "# WHEN DEVELOPING, USE SMALLER SAMPLE.\n",
    "export_ds = export_ds.sample(5000)\n",
    "\n",
    "ds['cleaned'] = export_ds['text'].swifter.apply(lambda row: text_preprocessing(row))\n",
    "\n",
    "export_ds"
   ]
  },
  {
   "cell_type": "markdown",
   "metadata": {
    "id": "hrUgxx8O0iMg"
   },
   "source": [
    "### **Remove Irrelevant Words**"
   ]
  },
  {
   "cell_type": "code",
   "execution_count": null,
   "metadata": {
    "id": "Q3VtlskHYyt6"
   },
   "outputs": [],
   "source": [
    "# Cleanup of irrelevant words.\n",
    "\n",
    "tokenizer = Tokenizer()\n",
    "tokenizer.fit_on_texts(export_ds['text'])\n",
    "word_freq = pd.DataFrame(tokenizer.word_counts.items(), columns=['word','count']).sort_values(by='count', ascending=False)"
   ]
  },
  {
   "cell_type": "code",
   "execution_count": null,
   "metadata": {
    "colab": {
     "base_uri": "https://localhost:8080/",
     "height": 718
    },
    "id": "o65uWptSyMUd",
    "outputId": "feeda809-1782-4847-8766-e144a6440dcc"
   },
   "outputs": [],
   "source": [
    "# Plot bar graph for word frequency\n",
    "plt.figure(figsize=(16, 8))\n",
    "sns.barplot(x='count',y='word',data=word_freq.iloc[:30])\n",
    "plt.title('Most Frequent Words')\n",
    "plt.xlabel(\"Frequency\")\n",
    "plt.ylabel(\"Word\")\n",
    "plt.show()"
   ]
  },
  {
   "cell_type": "markdown",
   "metadata": {
    "id": "-wa-Jbb00xf4"
   },
   "source": [
    "### **Remove Anomalous Words**\n",
    "Remove anomalous words that may adversely affect the model by unintended bias."
   ]
  },
  {
   "cell_type": "code",
   "execution_count": null,
   "metadata": {
    "colab": {
     "base_uri": "https://localhost:8080/"
    },
    "id": "74HbxNpjybTU",
    "outputId": "dbc4111e-e6a9-4162-c89c-c3e978221e17"
   },
   "outputs": [],
   "source": [
    "# Removed anomalous words\n",
    "export_ds['text'] = export_ds['text'].replace('filler', '')\n",
    "\n",
    "export_ds"
   ]
  },
  {
   "cell_type": "markdown",
   "metadata": {
    "id": "PBVpseLn0t9H"
   },
   "source": [
    "### Remove 0 Word Text"
   ]
  },
  {
   "cell_type": "code",
   "execution_count": null,
   "metadata": {
    "id": "GtgkfXrZyeSM"
   },
   "outputs": [],
   "source": [
    "# Remove rows with text length 0\n",
    "export_ds = export_ds[export_ds['text'].apply(lambda x: len(x.split())!=0)]\n",
    "export_ds.reset_index(drop=True, inplace=True)\n",
    "\n",
    "export_ds.shape"
   ]
  },
  {
   "cell_type": "markdown",
   "metadata": {
    "id": "oQfZypLn309k"
   },
   "source": [
    "### **Remove outliers**\n",
    "Text with large textual content can be ignored."
   ]
  },
  {
   "cell_type": "code",
   "execution_count": null,
   "metadata": {
    "colab": {
     "base_uri": "https://localhost:8080/",
     "height": 595
    },
    "id": "1wa-LxRA3y6x",
    "outputId": "e56bb912-c083-465b-a34b-9d2810a9935f"
   },
   "outputs": [],
   "source": [
    "# Get word count of posts\n",
    "text_len = [len(x.split()) for x in export_ds['text']]\n",
    "pd.Series(text_len).hist(bins=60)\n",
    "plt.show()\n",
    "print(pd.Series(text_len).describe())"
   ]
  },
  {
   "cell_type": "code",
   "execution_count": null,
   "metadata": {
    "colab": {
     "base_uri": "https://localhost:8080/",
     "height": 424
    },
    "id": "BozNbnbn4IHO",
    "outputId": "7f65b996-c62b-4d25-e888-e87838002963"
   },
   "outputs": [],
   "source": [
    "# Subset dataset to obtain rows with less than or equal to 62 words\n",
    "\n",
    "MAX_WORD_COUNT = 59\n",
    "\n",
    "export_ds = export_ds[export_ds['text'].apply(lambda x: len(x.split()) <= MAX_WORD_COUNT)]\n",
    "export_ds.reset_index(drop=True, inplace=True)\n",
    "\n",
    "export_ds"
   ]
  },
  {
   "cell_type": "markdown",
   "metadata": {
    "id": "KBLMoknx0-Sc"
   },
   "source": [
    "### **Save Cleaned Dataset**\n",
    "\n",
    "Save the final cleaned dataset to a csv file."
   ]
  },
  {
   "cell_type": "code",
   "execution_count": null,
   "metadata": {
    "id": "DnpDkGefykV9"
   },
   "outputs": [],
   "source": [
    "export_ds.to_csv(CLEANED_DATASET_PATH, index=False)"
   ]
  }
 ],
 "metadata": {
  "accelerator": "GPU",
  "colab": {
   "gpuType": "T4",
   "provenance": [],
   "toc_visible": true
  },
  "kernelspec": {
   "display_name": "Python 3 (ipykernel)",
   "language": "python",
   "name": "python3"
  },
  "language_info": {
   "codemirror_mode": {
    "name": "ipython",
    "version": 3
   },
   "file_extension": ".py",
   "mimetype": "text/x-python",
   "name": "python",
   "nbconvert_exporter": "python",
   "pygments_lexer": "ipython3",
   "version": "3.11.4"
  }
 },
 "nbformat": 4,
 "nbformat_minor": 4
}
